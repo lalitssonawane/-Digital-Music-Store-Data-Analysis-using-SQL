{
 "cells": [
  {
   "cell_type": "code",
   "execution_count": 1,
   "id": "58bb865f",
   "metadata": {
    "_cell_guid": "b1076dfc-b9ad-4769-8c92-a6c4dae69d19",
    "_uuid": "8f2839f25d086af736a60e9eeb907d3b93b6e0e5",
    "execution": {
     "iopub.execute_input": "2024-12-12T15:12:07.235994Z",
     "iopub.status.busy": "2024-12-12T15:12:07.235488Z",
     "iopub.status.idle": "2024-12-12T15:12:08.121495Z",
     "shell.execute_reply": "2024-12-12T15:12:08.120238Z"
    },
    "papermill": {
     "duration": 0.898206,
     "end_time": "2024-12-12T15:12:08.123972",
     "exception": false,
     "start_time": "2024-12-12T15:12:07.225766",
     "status": "completed"
    },
    "tags": []
   },
   "outputs": [
    {
     "name": "stdout",
     "output_type": "stream",
     "text": [
      "/kaggle/input/eedi-mining-misconceptions-in-mathematics/sample_submission.csv\n",
      "/kaggle/input/eedi-mining-misconceptions-in-mathematics/misconception_mapping.csv\n",
      "/kaggle/input/eedi-mining-misconceptions-in-mathematics/train.csv\n",
      "/kaggle/input/eedi-mining-misconceptions-in-mathematics/test.csv\n"
     ]
    }
   ],
   "source": [
    "# This Python 3 environment comes with many helpful analytics libraries installed\n",
    "# It is defined by the kaggle/python Docker image: https://github.com/kaggle/docker-python\n",
    "# For example, here's several helpful packages to load\n",
    "\n",
    "import numpy as np # linear algebra\n",
    "import pandas as pd # data processing, CSV file I/O (e.g. pd.read_csv)\n",
    "\n",
    "# Input data files are available in the read-only \"../input/\" directory\n",
    "# For example, running this (by clicking run or pressing Shift+Enter) will list all files under the input directory\n",
    "\n",
    "import os\n",
    "for dirname, _, filenames in os.walk('/kaggle/input'):\n",
    "    for filename in filenames:\n",
    "        print(os.path.join(dirname, filename))\n",
    "\n",
    "# You can write up to 20GB to the current directory (/kaggle/working/) that gets preserved as output when you create a version using \"Save & Run All\" \n",
    "# You can also write temporary files to /kaggle/temp/, but they won't be saved outside of the current session"
   ]
  },
  {
   "cell_type": "code",
   "execution_count": 2,
   "id": "8c11a236",
   "metadata": {
    "execution": {
     "iopub.execute_input": "2024-12-12T15:12:08.143255Z",
     "iopub.status.busy": "2024-12-12T15:12:08.142173Z",
     "iopub.status.idle": "2024-12-12T15:12:08.147083Z",
     "shell.execute_reply": "2024-12-12T15:12:08.146059Z"
    },
    "papermill": {
     "duration": 0.017459,
     "end_time": "2024-12-12T15:12:08.149073",
     "exception": false,
     "start_time": "2024-12-12T15:12:08.131614",
     "status": "completed"
    },
    "tags": []
   },
   "outputs": [],
   "source": [
    "import pandas as pd\n",
    "import numpy as np"
   ]
  },
  {
   "cell_type": "code",
   "execution_count": 3,
   "id": "f09d782d",
   "metadata": {
    "execution": {
     "iopub.execute_input": "2024-12-12T15:12:08.167522Z",
     "iopub.status.busy": "2024-12-12T15:12:08.167101Z",
     "iopub.status.idle": "2024-12-12T15:12:22.310499Z",
     "shell.execute_reply": "2024-12-12T15:12:22.309272Z"
    },
    "papermill": {
     "duration": 14.15467,
     "end_time": "2024-12-12T15:12:22.312940",
     "exception": false,
     "start_time": "2024-12-12T15:12:08.158270",
     "status": "completed"
    },
    "tags": []
   },
   "outputs": [
    {
     "name": "stdout",
     "output_type": "stream",
     "text": [
      "Collecting fasteda\r\n",
      "  Downloading fasteda-1.0.1.tar.gz (4.7 kB)\r\n",
      "  Preparing metadata (setup.py) ... \u001b[?25l-\b \bdone\r\n",
      "\u001b[?25hRequirement already satisfied: pandas in /opt/conda/lib/python3.10/site-packages (from fasteda) (2.2.3)\r\n",
      "Requirement already satisfied: numpy in /opt/conda/lib/python3.10/site-packages (from fasteda) (1.26.4)\r\n",
      "Requirement already satisfied: matplotlib in /opt/conda/lib/python3.10/site-packages (from fasteda) (3.7.5)\r\n",
      "Requirement already satisfied: seaborn in /opt/conda/lib/python3.10/site-packages (from fasteda) (0.12.2)\r\n",
      "Requirement already satisfied: missingno in /opt/conda/lib/python3.10/site-packages (from fasteda) (0.5.2)\r\n",
      "Requirement already satisfied: colorama in /opt/conda/lib/python3.10/site-packages (from fasteda) (0.4.6)\r\n",
      "Requirement already satisfied: contourpy>=1.0.1 in /opt/conda/lib/python3.10/site-packages (from matplotlib->fasteda) (1.2.1)\r\n",
      "Requirement already satisfied: cycler>=0.10 in /opt/conda/lib/python3.10/site-packages (from matplotlib->fasteda) (0.12.1)\r\n",
      "Requirement already satisfied: fonttools>=4.22.0 in /opt/conda/lib/python3.10/site-packages (from matplotlib->fasteda) (4.53.0)\r\n",
      "Requirement already satisfied: kiwisolver>=1.0.1 in /opt/conda/lib/python3.10/site-packages (from matplotlib->fasteda) (1.4.5)\r\n",
      "Requirement already satisfied: packaging>=20.0 in /opt/conda/lib/python3.10/site-packages (from matplotlib->fasteda) (21.3)\r\n",
      "Requirement already satisfied: pillow>=6.2.0 in /opt/conda/lib/python3.10/site-packages (from matplotlib->fasteda) (10.3.0)\r\n",
      "Requirement already satisfied: pyparsing>=2.3.1 in /opt/conda/lib/python3.10/site-packages (from matplotlib->fasteda) (3.1.2)\r\n",
      "Requirement already satisfied: python-dateutil>=2.7 in /opt/conda/lib/python3.10/site-packages (from matplotlib->fasteda) (2.9.0.post0)\r\n",
      "Requirement already satisfied: scipy in /opt/conda/lib/python3.10/site-packages (from missingno->fasteda) (1.14.1)\r\n",
      "Requirement already satisfied: pytz>=2020.1 in /opt/conda/lib/python3.10/site-packages (from pandas->fasteda) (2024.1)\r\n",
      "Requirement already satisfied: tzdata>=2022.7 in /opt/conda/lib/python3.10/site-packages (from pandas->fasteda) (2024.1)\r\n",
      "Requirement already satisfied: six>=1.5 in /opt/conda/lib/python3.10/site-packages (from python-dateutil>=2.7->matplotlib->fasteda) (1.16.0)\r\n",
      "Building wheels for collected packages: fasteda\r\n",
      "  Building wheel for fasteda (setup.py) ... \u001b[?25l-\b \b\\\b \bdone\r\n",
      "\u001b[?25h  Created wheel for fasteda: filename=fasteda-1.0.1-py3-none-any.whl size=4723 sha256=f546e86b71ad689da2837f4cea78cff4538cf248a7641a428177538cbd802da6\r\n",
      "  Stored in directory: /root/.cache/pip/wheels/ed/08/72/0d0ec0d3927d227b38ce9542ec3fa6b975c2e17ad0d046dcee\r\n",
      "Successfully built fasteda\r\n",
      "Installing collected packages: fasteda\r\n",
      "Successfully installed fasteda-1.0.1\r\n"
     ]
    }
   ],
   "source": [
    "!pip install fasteda"
   ]
  },
  {
   "cell_type": "code",
   "execution_count": 4,
   "id": "4b7d0b37",
   "metadata": {
    "execution": {
     "iopub.execute_input": "2024-12-12T15:12:22.332439Z",
     "iopub.status.busy": "2024-12-12T15:12:22.331168Z",
     "iopub.status.idle": "2024-12-12T15:12:22.417398Z",
     "shell.execute_reply": "2024-12-12T15:12:22.416396Z"
    },
    "papermill": {
     "duration": 0.098522,
     "end_time": "2024-12-12T15:12:22.419874",
     "exception": false,
     "start_time": "2024-12-12T15:12:22.321352",
     "status": "completed"
    },
    "tags": []
   },
   "outputs": [],
   "source": [
    "train = pd.read_csv(\"/kaggle/input/eedi-mining-misconceptions-in-mathematics/train.csv\")\n",
    "test = pd.read_csv(\"/kaggle/input/eedi-mining-misconceptions-in-mathematics/test.csv\")\n",
    "mis_map = pd.read_csv(\"/kaggle/input/eedi-mining-misconceptions-in-mathematics/misconception_mapping.csv\")\n",
    "sub = pd.read_csv(\"/kaggle/input/eedi-mining-misconceptions-in-mathematics/sample_submission.csv\")"
   ]
  },
  {
   "cell_type": "code",
   "execution_count": 5,
   "id": "869a983d",
   "metadata": {
    "execution": {
     "iopub.execute_input": "2024-12-12T15:12:22.438381Z",
     "iopub.status.busy": "2024-12-12T15:12:22.437951Z",
     "iopub.status.idle": "2024-12-12T15:12:22.448571Z",
     "shell.execute_reply": "2024-12-12T15:12:22.447498Z"
    },
    "papermill": {
     "duration": 0.0224,
     "end_time": "2024-12-12T15:12:22.451002",
     "exception": false,
     "start_time": "2024-12-12T15:12:22.428602",
     "status": "completed"
    },
    "tags": []
   },
   "outputs": [],
   "source": [
    "misTable = dict(zip(mis_map.MisconceptionId, mis_map.MisconceptionName))"
   ]
  },
  {
   "cell_type": "code",
   "execution_count": 6,
   "id": "000ba206",
   "metadata": {
    "execution": {
     "iopub.execute_input": "2024-12-12T15:12:22.469172Z",
     "iopub.status.busy": "2024-12-12T15:12:22.468757Z",
     "iopub.status.idle": "2024-12-12T15:12:22.494522Z",
     "shell.execute_reply": "2024-12-12T15:12:22.493434Z"
    },
    "papermill": {
     "duration": 0.037623,
     "end_time": "2024-12-12T15:12:22.496847",
     "exception": false,
     "start_time": "2024-12-12T15:12:22.459224",
     "status": "completed"
    },
    "tags": []
   },
   "outputs": [
    {
     "data": {
      "text/html": [
       "<div>\n",
       "<style scoped>\n",
       "    .dataframe tbody tr th:only-of-type {\n",
       "        vertical-align: middle;\n",
       "    }\n",
       "\n",
       "    .dataframe tbody tr th {\n",
       "        vertical-align: top;\n",
       "    }\n",
       "\n",
       "    .dataframe thead th {\n",
       "        text-align: right;\n",
       "    }\n",
       "</style>\n",
       "<table border=\"1\" class=\"dataframe\">\n",
       "  <thead>\n",
       "    <tr style=\"text-align: right;\">\n",
       "      <th></th>\n",
       "      <th>QuestionId</th>\n",
       "      <th>ConstructId</th>\n",
       "      <th>ConstructName</th>\n",
       "      <th>SubjectId</th>\n",
       "      <th>SubjectName</th>\n",
       "      <th>CorrectAnswer</th>\n",
       "      <th>QuestionText</th>\n",
       "      <th>AnswerAText</th>\n",
       "      <th>AnswerBText</th>\n",
       "      <th>AnswerCText</th>\n",
       "      <th>AnswerDText</th>\n",
       "      <th>MisconceptionAId</th>\n",
       "      <th>MisconceptionBId</th>\n",
       "      <th>MisconceptionCId</th>\n",
       "      <th>MisconceptionDId</th>\n",
       "    </tr>\n",
       "  </thead>\n",
       "  <tbody>\n",
       "    <tr>\n",
       "      <th>0</th>\n",
       "      <td>0</td>\n",
       "      <td>856</td>\n",
       "      <td>Use the order of operations to carry out calcu...</td>\n",
       "      <td>33</td>\n",
       "      <td>BIDMAS</td>\n",
       "      <td>A</td>\n",
       "      <td>\\[\\n3 \\times 2+4-5\\n\\]\\nWhere do the brackets ...</td>\n",
       "      <td>\\( 3 \\times(2+4)-5 \\)</td>\n",
       "      <td>\\( 3 \\times 2+(4-5) \\)</td>\n",
       "      <td>\\( 3 \\times(2+4-5) \\)</td>\n",
       "      <td>Does not need brackets</td>\n",
       "      <td>NaN</td>\n",
       "      <td>NaN</td>\n",
       "      <td>NaN</td>\n",
       "      <td>1672.0</td>\n",
       "    </tr>\n",
       "    <tr>\n",
       "      <th>1</th>\n",
       "      <td>1</td>\n",
       "      <td>1612</td>\n",
       "      <td>Simplify an algebraic fraction by factorising ...</td>\n",
       "      <td>1077</td>\n",
       "      <td>Simplifying Algebraic Fractions</td>\n",
       "      <td>D</td>\n",
       "      <td>Simplify the following, if possible: \\( \\frac{...</td>\n",
       "      <td>\\( m+1 \\)</td>\n",
       "      <td>\\( m+2 \\)</td>\n",
       "      <td>\\( m-1 \\)</td>\n",
       "      <td>Does not simplify</td>\n",
       "      <td>2142.0</td>\n",
       "      <td>143.0</td>\n",
       "      <td>2142.0</td>\n",
       "      <td>NaN</td>\n",
       "    </tr>\n",
       "    <tr>\n",
       "      <th>2</th>\n",
       "      <td>2</td>\n",
       "      <td>2774</td>\n",
       "      <td>Calculate the range from a list of data</td>\n",
       "      <td>339</td>\n",
       "      <td>Range and Interquartile Range from a List of Data</td>\n",
       "      <td>B</td>\n",
       "      <td>Tom and Katie are discussing the \\( 5 \\) plant...</td>\n",
       "      <td>Only\\nTom</td>\n",
       "      <td>Only\\nKatie</td>\n",
       "      <td>Both Tom and Katie</td>\n",
       "      <td>Neither is correct</td>\n",
       "      <td>1287.0</td>\n",
       "      <td>NaN</td>\n",
       "      <td>1287.0</td>\n",
       "      <td>1073.0</td>\n",
       "    </tr>\n",
       "    <tr>\n",
       "      <th>3</th>\n",
       "      <td>3</td>\n",
       "      <td>2377</td>\n",
       "      <td>Recall and use the intersecting diagonals prop...</td>\n",
       "      <td>88</td>\n",
       "      <td>Properties of Quadrilaterals</td>\n",
       "      <td>C</td>\n",
       "      <td>The angles highlighted on this rectangle with ...</td>\n",
       "      <td>acute</td>\n",
       "      <td>obtuse</td>\n",
       "      <td>\\( 90^{\\circ} \\)</td>\n",
       "      <td>Not enough information</td>\n",
       "      <td>1180.0</td>\n",
       "      <td>1180.0</td>\n",
       "      <td>NaN</td>\n",
       "      <td>1180.0</td>\n",
       "    </tr>\n",
       "    <tr>\n",
       "      <th>4</th>\n",
       "      <td>4</td>\n",
       "      <td>3387</td>\n",
       "      <td>Substitute positive integer values into formul...</td>\n",
       "      <td>67</td>\n",
       "      <td>Substitution into Formula</td>\n",
       "      <td>A</td>\n",
       "      <td>The equation \\( f=3 r^{2}+3 \\) is used to find...</td>\n",
       "      <td>\\( 30 \\)</td>\n",
       "      <td>\\( 27 \\)</td>\n",
       "      <td>\\( 51 \\)</td>\n",
       "      <td>\\( 24 \\)</td>\n",
       "      <td>NaN</td>\n",
       "      <td>NaN</td>\n",
       "      <td>NaN</td>\n",
       "      <td>1818.0</td>\n",
       "    </tr>\n",
       "  </tbody>\n",
       "</table>\n",
       "</div>"
      ],
      "text/plain": [
       "   QuestionId  ConstructId                                      ConstructName  \\\n",
       "0           0          856  Use the order of operations to carry out calcu...   \n",
       "1           1         1612  Simplify an algebraic fraction by factorising ...   \n",
       "2           2         2774            Calculate the range from a list of data   \n",
       "3           3         2377  Recall and use the intersecting diagonals prop...   \n",
       "4           4         3387  Substitute positive integer values into formul...   \n",
       "\n",
       "   SubjectId                                        SubjectName CorrectAnswer  \\\n",
       "0         33                                             BIDMAS             A   \n",
       "1       1077                    Simplifying Algebraic Fractions             D   \n",
       "2        339  Range and Interquartile Range from a List of Data             B   \n",
       "3         88                       Properties of Quadrilaterals             C   \n",
       "4         67                          Substitution into Formula             A   \n",
       "\n",
       "                                        QuestionText            AnswerAText  \\\n",
       "0  \\[\\n3 \\times 2+4-5\\n\\]\\nWhere do the brackets ...  \\( 3 \\times(2+4)-5 \\)   \n",
       "1  Simplify the following, if possible: \\( \\frac{...              \\( m+1 \\)   \n",
       "2  Tom and Katie are discussing the \\( 5 \\) plant...              Only\\nTom   \n",
       "3  The angles highlighted on this rectangle with ...                  acute   \n",
       "4  The equation \\( f=3 r^{2}+3 \\) is used to find...               \\( 30 \\)   \n",
       "\n",
       "              AnswerBText            AnswerCText             AnswerDText  \\\n",
       "0  \\( 3 \\times 2+(4-5) \\)  \\( 3 \\times(2+4-5) \\)  Does not need brackets   \n",
       "1               \\( m+2 \\)              \\( m-1 \\)       Does not simplify   \n",
       "2             Only\\nKatie     Both Tom and Katie      Neither is correct   \n",
       "3                  obtuse       \\( 90^{\\circ} \\)  Not enough information   \n",
       "4                \\( 27 \\)               \\( 51 \\)                \\( 24 \\)   \n",
       "\n",
       "   MisconceptionAId  MisconceptionBId  MisconceptionCId  MisconceptionDId  \n",
       "0               NaN               NaN               NaN            1672.0  \n",
       "1            2142.0             143.0            2142.0               NaN  \n",
       "2            1287.0               NaN            1287.0            1073.0  \n",
       "3            1180.0            1180.0               NaN            1180.0  \n",
       "4               NaN               NaN               NaN            1818.0  "
      ]
     },
     "execution_count": 6,
     "metadata": {},
     "output_type": "execute_result"
    }
   ],
   "source": [
    "train.head()"
   ]
  },
  {
   "cell_type": "code",
   "execution_count": 7,
   "id": "c27c1382",
   "metadata": {
    "execution": {
     "iopub.execute_input": "2024-12-12T15:12:22.515543Z",
     "iopub.status.busy": "2024-12-12T15:12:22.515124Z",
     "iopub.status.idle": "2024-12-12T15:12:22.533078Z",
     "shell.execute_reply": "2024-12-12T15:12:22.531976Z"
    },
    "papermill": {
     "duration": 0.02983,
     "end_time": "2024-12-12T15:12:22.535311",
     "exception": false,
     "start_time": "2024-12-12T15:12:22.505481",
     "status": "completed"
    },
    "tags": []
   },
   "outputs": [
    {
     "data": {
      "text/html": [
       "<div>\n",
       "<style scoped>\n",
       "    .dataframe tbody tr th:only-of-type {\n",
       "        vertical-align: middle;\n",
       "    }\n",
       "\n",
       "    .dataframe tbody tr th {\n",
       "        vertical-align: top;\n",
       "    }\n",
       "\n",
       "    .dataframe thead th {\n",
       "        text-align: right;\n",
       "    }\n",
       "</style>\n",
       "<table border=\"1\" class=\"dataframe\">\n",
       "  <thead>\n",
       "    <tr style=\"text-align: right;\">\n",
       "      <th></th>\n",
       "      <th>QuestionId</th>\n",
       "      <th>ConstructId</th>\n",
       "      <th>ConstructName</th>\n",
       "      <th>SubjectId</th>\n",
       "      <th>SubjectName</th>\n",
       "      <th>CorrectAnswer</th>\n",
       "      <th>QuestionText</th>\n",
       "      <th>AnswerAText</th>\n",
       "      <th>AnswerBText</th>\n",
       "      <th>AnswerCText</th>\n",
       "      <th>AnswerDText</th>\n",
       "      <th>MisconceptionAId</th>\n",
       "      <th>MisconceptionBId</th>\n",
       "      <th>MisconceptionCId</th>\n",
       "      <th>MisconceptionDId</th>\n",
       "    </tr>\n",
       "  </thead>\n",
       "  <tbody>\n",
       "    <tr>\n",
       "      <th>1864</th>\n",
       "      <td>1864</td>\n",
       "      <td>2774</td>\n",
       "      <td>Calculate the range from a list of data</td>\n",
       "      <td>339</td>\n",
       "      <td>Range and Interquartile Range from a List of Data</td>\n",
       "      <td>C</td>\n",
       "      <td>What is the range of the following numbers?\\n\\...</td>\n",
       "      <td>\\( 5 \\)</td>\n",
       "      <td>\\( 11 \\)</td>\n",
       "      <td>\\( 23 \\)</td>\n",
       "      <td>\\( 16 \\)</td>\n",
       "      <td>2456.0</td>\n",
       "      <td>691.0</td>\n",
       "      <td>NaN</td>\n",
       "      <td>1349.0</td>\n",
       "    </tr>\n",
       "    <tr>\n",
       "      <th>1865</th>\n",
       "      <td>1865</td>\n",
       "      <td>2695</td>\n",
       "      <td>Describe an enlargement, with no centre of enl...</td>\n",
       "      <td>90</td>\n",
       "      <td>Length Scale Factors in Similar Shapes</td>\n",
       "      <td>B</td>\n",
       "      <td>Shape \\( Q \\) is an enlargement of shape \\( P ...</td>\n",
       "      <td>\\( 3 \\div 11 \\)</td>\n",
       "      <td>\\( 11 \\div 3 \\)</td>\n",
       "      <td>\\( 3 \\times 11 \\)</td>\n",
       "      <td>\\( 11-3 \\)</td>\n",
       "      <td>1500.0</td>\n",
       "      <td>NaN</td>\n",
       "      <td>2442.0</td>\n",
       "      <td>1258.0</td>\n",
       "    </tr>\n",
       "    <tr>\n",
       "      <th>1866</th>\n",
       "      <td>1866</td>\n",
       "      <td>854</td>\n",
       "      <td>Use the order of operations to carry out calcu...</td>\n",
       "      <td>33</td>\n",
       "      <td>BIDMAS</td>\n",
       "      <td>B</td>\n",
       "      <td>What does the following equal?\\n\\[\\n8-7+10 \\ti...</td>\n",
       "      <td>\\( 36 \\)</td>\n",
       "      <td>\\( 31 \\)</td>\n",
       "      <td>\\( -29 \\)</td>\n",
       "      <td>\\( 33 \\)</td>\n",
       "      <td>NaN</td>\n",
       "      <td>NaN</td>\n",
       "      <td>2306.0</td>\n",
       "      <td>1507.0</td>\n",
       "    </tr>\n",
       "    <tr>\n",
       "      <th>1867</th>\n",
       "      <td>1867</td>\n",
       "      <td>2634</td>\n",
       "      <td>Distinguish between congruency and similarity</td>\n",
       "      <td>274</td>\n",
       "      <td>Congruency in Other Shapes</td>\n",
       "      <td>B</td>\n",
       "      <td>Tom and Katie are discussing congruence and si...</td>\n",
       "      <td>Only\\nTom</td>\n",
       "      <td>Only Katie</td>\n",
       "      <td>Both Tom and Katie</td>\n",
       "      <td>Neither is correct</td>\n",
       "      <td>2312.0</td>\n",
       "      <td>NaN</td>\n",
       "      <td>2312.0</td>\n",
       "      <td>2312.0</td>\n",
       "    </tr>\n",
       "    <tr>\n",
       "      <th>1868</th>\n",
       "      <td>1868</td>\n",
       "      <td>2680</td>\n",
       "      <td>Describe a 90° or 270° rotation giving the ang...</td>\n",
       "      <td>93</td>\n",
       "      <td>Rotation</td>\n",
       "      <td>B</td>\n",
       "      <td>Jo and Paul are arguing about how to fully des...</td>\n",
       "      <td>Only\\nJo</td>\n",
       "      <td>Only Paul</td>\n",
       "      <td>Both Jo and Paul</td>\n",
       "      <td>Neither is correct</td>\n",
       "      <td>801.0</td>\n",
       "      <td>NaN</td>\n",
       "      <td>801.0</td>\n",
       "      <td>95.0</td>\n",
       "    </tr>\n",
       "  </tbody>\n",
       "</table>\n",
       "</div>"
      ],
      "text/plain": [
       "      QuestionId  ConstructId  \\\n",
       "1864        1864         2774   \n",
       "1865        1865         2695   \n",
       "1866        1866          854   \n",
       "1867        1867         2634   \n",
       "1868        1868         2680   \n",
       "\n",
       "                                          ConstructName  SubjectId  \\\n",
       "1864            Calculate the range from a list of data        339   \n",
       "1865  Describe an enlargement, with no centre of enl...         90   \n",
       "1866  Use the order of operations to carry out calcu...         33   \n",
       "1867      Distinguish between congruency and similarity        274   \n",
       "1868  Describe a 90° or 270° rotation giving the ang...         93   \n",
       "\n",
       "                                            SubjectName CorrectAnswer  \\\n",
       "1864  Range and Interquartile Range from a List of Data             C   \n",
       "1865             Length Scale Factors in Similar Shapes             B   \n",
       "1866                                             BIDMAS             B   \n",
       "1867                         Congruency in Other Shapes             B   \n",
       "1868                                           Rotation             B   \n",
       "\n",
       "                                           QuestionText      AnswerAText  \\\n",
       "1864  What is the range of the following numbers?\\n\\...          \\( 5 \\)   \n",
       "1865  Shape \\( Q \\) is an enlargement of shape \\( P ...  \\( 3 \\div 11 \\)   \n",
       "1866  What does the following equal?\\n\\[\\n8-7+10 \\ti...         \\( 36 \\)   \n",
       "1867  Tom and Katie are discussing congruence and si...        Only\\nTom   \n",
       "1868  Jo and Paul are arguing about how to fully des...         Only\\nJo   \n",
       "\n",
       "          AnswerBText         AnswerCText         AnswerDText  \\\n",
       "1864         \\( 11 \\)            \\( 23 \\)            \\( 16 \\)   \n",
       "1865  \\( 11 \\div 3 \\)   \\( 3 \\times 11 \\)          \\( 11-3 \\)   \n",
       "1866         \\( 31 \\)           \\( -29 \\)            \\( 33 \\)   \n",
       "1867       Only Katie  Both Tom and Katie  Neither is correct   \n",
       "1868        Only Paul    Both Jo and Paul  Neither is correct   \n",
       "\n",
       "      MisconceptionAId  MisconceptionBId  MisconceptionCId  MisconceptionDId  \n",
       "1864            2456.0             691.0               NaN            1349.0  \n",
       "1865            1500.0               NaN            2442.0            1258.0  \n",
       "1866               NaN               NaN            2306.0            1507.0  \n",
       "1867            2312.0               NaN            2312.0            2312.0  \n",
       "1868             801.0               NaN             801.0              95.0  "
      ]
     },
     "execution_count": 7,
     "metadata": {},
     "output_type": "execute_result"
    }
   ],
   "source": [
    "train.tail()"
   ]
  },
  {
   "cell_type": "code",
   "execution_count": 8,
   "id": "601f3214",
   "metadata": {
    "execution": {
     "iopub.execute_input": "2024-12-12T15:12:22.554673Z",
     "iopub.status.busy": "2024-12-12T15:12:22.554313Z",
     "iopub.status.idle": "2024-12-12T15:12:22.583147Z",
     "shell.execute_reply": "2024-12-12T15:12:22.581847Z"
    },
    "papermill": {
     "duration": 0.041072,
     "end_time": "2024-12-12T15:12:22.585582",
     "exception": false,
     "start_time": "2024-12-12T15:12:22.544510",
     "status": "completed"
    },
    "tags": []
   },
   "outputs": [
    {
     "name": "stdout",
     "output_type": "stream",
     "text": [
      "<class 'pandas.core.frame.DataFrame'>\n",
      "RangeIndex: 1869 entries, 0 to 1868\n",
      "Data columns (total 15 columns):\n",
      " #   Column            Non-Null Count  Dtype  \n",
      "---  ------            --------------  -----  \n",
      " 0   QuestionId        1869 non-null   int64  \n",
      " 1   ConstructId       1869 non-null   int64  \n",
      " 2   ConstructName     1869 non-null   object \n",
      " 3   SubjectId         1869 non-null   int64  \n",
      " 4   SubjectName       1869 non-null   object \n",
      " 5   CorrectAnswer     1869 non-null   object \n",
      " 6   QuestionText      1869 non-null   object \n",
      " 7   AnswerAText       1869 non-null   object \n",
      " 8   AnswerBText       1869 non-null   object \n",
      " 9   AnswerCText       1869 non-null   object \n",
      " 10  AnswerDText       1869 non-null   object \n",
      " 11  MisconceptionAId  1135 non-null   float64\n",
      " 12  MisconceptionBId  1118 non-null   float64\n",
      " 13  MisconceptionCId  1080 non-null   float64\n",
      " 14  MisconceptionDId  1037 non-null   float64\n",
      "dtypes: float64(4), int64(3), object(8)\n",
      "memory usage: 219.1+ KB\n"
     ]
    }
   ],
   "source": [
    "train.info()"
   ]
  },
  {
   "cell_type": "code",
   "execution_count": 9,
   "id": "4dd2f001",
   "metadata": {
    "execution": {
     "iopub.execute_input": "2024-12-12T15:12:22.606256Z",
     "iopub.status.busy": "2024-12-12T15:12:22.605168Z",
     "iopub.status.idle": "2024-12-12T15:12:22.637829Z",
     "shell.execute_reply": "2024-12-12T15:12:22.636757Z"
    },
    "papermill": {
     "duration": 0.045451,
     "end_time": "2024-12-12T15:12:22.640341",
     "exception": false,
     "start_time": "2024-12-12T15:12:22.594890",
     "status": "completed"
    },
    "tags": []
   },
   "outputs": [
    {
     "data": {
      "text/html": [
       "<div>\n",
       "<style scoped>\n",
       "    .dataframe tbody tr th:only-of-type {\n",
       "        vertical-align: middle;\n",
       "    }\n",
       "\n",
       "    .dataframe tbody tr th {\n",
       "        vertical-align: top;\n",
       "    }\n",
       "\n",
       "    .dataframe thead th {\n",
       "        text-align: right;\n",
       "    }\n",
       "</style>\n",
       "<table border=\"1\" class=\"dataframe\">\n",
       "  <thead>\n",
       "    <tr style=\"text-align: right;\">\n",
       "      <th></th>\n",
       "      <th>QuestionId</th>\n",
       "      <th>ConstructId</th>\n",
       "      <th>SubjectId</th>\n",
       "      <th>MisconceptionAId</th>\n",
       "      <th>MisconceptionBId</th>\n",
       "      <th>MisconceptionCId</th>\n",
       "      <th>MisconceptionDId</th>\n",
       "    </tr>\n",
       "  </thead>\n",
       "  <tbody>\n",
       "    <tr>\n",
       "      <th>count</th>\n",
       "      <td>1869.000000</td>\n",
       "      <td>1869.000000</td>\n",
       "      <td>1869.000000</td>\n",
       "      <td>1135.000000</td>\n",
       "      <td>1118.000000</td>\n",
       "      <td>1080.000000</td>\n",
       "      <td>1037.000000</td>\n",
       "    </tr>\n",
       "    <tr>\n",
       "      <th>mean</th>\n",
       "      <td>934.000000</td>\n",
       "      <td>1613.261637</td>\n",
       "      <td>225.370787</td>\n",
       "      <td>1308.599119</td>\n",
       "      <td>1308.029517</td>\n",
       "      <td>1285.300926</td>\n",
       "      <td>1264.568949</td>\n",
       "    </tr>\n",
       "    <tr>\n",
       "      <th>std</th>\n",
       "      <td>539.678145</td>\n",
       "      <td>1060.591804</td>\n",
       "      <td>238.536233</td>\n",
       "      <td>744.518370</td>\n",
       "      <td>766.487351</td>\n",
       "      <td>742.212198</td>\n",
       "      <td>759.818341</td>\n",
       "    </tr>\n",
       "    <tr>\n",
       "      <th>min</th>\n",
       "      <td>0.000000</td>\n",
       "      <td>4.000000</td>\n",
       "      <td>33.000000</td>\n",
       "      <td>1.000000</td>\n",
       "      <td>1.000000</td>\n",
       "      <td>2.000000</td>\n",
       "      <td>0.000000</td>\n",
       "    </tr>\n",
       "    <tr>\n",
       "      <th>25%</th>\n",
       "      <td>467.000000</td>\n",
       "      <td>575.000000</td>\n",
       "      <td>92.000000</td>\n",
       "      <td>686.000000</td>\n",
       "      <td>628.500000</td>\n",
       "      <td>652.250000</td>\n",
       "      <td>578.000000</td>\n",
       "    </tr>\n",
       "    <tr>\n",
       "      <th>50%</th>\n",
       "      <td>934.000000</td>\n",
       "      <td>1470.000000</td>\n",
       "      <td>203.000000</td>\n",
       "      <td>1336.000000</td>\n",
       "      <td>1379.000000</td>\n",
       "      <td>1294.500000</td>\n",
       "      <td>1282.000000</td>\n",
       "    </tr>\n",
       "    <tr>\n",
       "      <th>75%</th>\n",
       "      <td>1401.000000</td>\n",
       "      <td>2637.000000</td>\n",
       "      <td>238.000000</td>\n",
       "      <td>1954.000000</td>\n",
       "      <td>1970.000000</td>\n",
       "      <td>1912.000000</td>\n",
       "      <td>1897.000000</td>\n",
       "    </tr>\n",
       "    <tr>\n",
       "      <th>max</th>\n",
       "      <td>1868.000000</td>\n",
       "      <td>3526.000000</td>\n",
       "      <td>1984.000000</td>\n",
       "      <td>2585.000000</td>\n",
       "      <td>2586.000000</td>\n",
       "      <td>2585.000000</td>\n",
       "      <td>2583.000000</td>\n",
       "    </tr>\n",
       "  </tbody>\n",
       "</table>\n",
       "</div>"
      ],
      "text/plain": [
       "        QuestionId  ConstructId    SubjectId  MisconceptionAId  \\\n",
       "count  1869.000000  1869.000000  1869.000000       1135.000000   \n",
       "mean    934.000000  1613.261637   225.370787       1308.599119   \n",
       "std     539.678145  1060.591804   238.536233        744.518370   \n",
       "min       0.000000     4.000000    33.000000          1.000000   \n",
       "25%     467.000000   575.000000    92.000000        686.000000   \n",
       "50%     934.000000  1470.000000   203.000000       1336.000000   \n",
       "75%    1401.000000  2637.000000   238.000000       1954.000000   \n",
       "max    1868.000000  3526.000000  1984.000000       2585.000000   \n",
       "\n",
       "       MisconceptionBId  MisconceptionCId  MisconceptionDId  \n",
       "count       1118.000000       1080.000000       1037.000000  \n",
       "mean        1308.029517       1285.300926       1264.568949  \n",
       "std          766.487351        742.212198        759.818341  \n",
       "min            1.000000          2.000000          0.000000  \n",
       "25%          628.500000        652.250000        578.000000  \n",
       "50%         1379.000000       1294.500000       1282.000000  \n",
       "75%         1970.000000       1912.000000       1897.000000  \n",
       "max         2586.000000       2585.000000       2583.000000  "
      ]
     },
     "execution_count": 9,
     "metadata": {},
     "output_type": "execute_result"
    }
   ],
   "source": [
    "train.describe()"
   ]
  },
  {
   "cell_type": "code",
   "execution_count": 10,
   "id": "510df826",
   "metadata": {
    "execution": {
     "iopub.execute_input": "2024-12-12T15:12:22.660562Z",
     "iopub.status.busy": "2024-12-12T15:12:22.660145Z",
     "iopub.status.idle": "2024-12-12T15:12:22.667383Z",
     "shell.execute_reply": "2024-12-12T15:12:22.666260Z"
    },
    "papermill": {
     "duration": 0.019829,
     "end_time": "2024-12-12T15:12:22.669521",
     "exception": false,
     "start_time": "2024-12-12T15:12:22.649692",
     "status": "completed"
    },
    "tags": []
   },
   "outputs": [
    {
     "data": {
      "text/plain": [
       "Index(['QuestionId', 'ConstructId', 'ConstructName', 'SubjectId',\n",
       "       'SubjectName', 'CorrectAnswer', 'QuestionText', 'AnswerAText',\n",
       "       'AnswerBText', 'AnswerCText', 'AnswerDText', 'MisconceptionAId',\n",
       "       'MisconceptionBId', 'MisconceptionCId', 'MisconceptionDId'],\n",
       "      dtype='object')"
      ]
     },
     "execution_count": 10,
     "metadata": {},
     "output_type": "execute_result"
    }
   ],
   "source": [
    "train.columns"
   ]
  },
  {
   "cell_type": "code",
   "execution_count": 11,
   "id": "e9faf45c",
   "metadata": {
    "execution": {
     "iopub.execute_input": "2024-12-12T15:12:22.690041Z",
     "iopub.status.busy": "2024-12-12T15:12:22.689626Z",
     "iopub.status.idle": "2024-12-12T15:12:35.094472Z",
     "shell.execute_reply": "2024-12-12T15:12:35.093089Z"
    },
    "papermill": {
     "duration": 12.418246,
     "end_time": "2024-12-12T15:12:35.097036",
     "exception": false,
     "start_time": "2024-12-12T15:12:22.678790",
     "status": "completed"
    },
    "tags": []
   },
   "outputs": [],
   "source": [
    "!pip install -qq pylatexenc"
   ]
  },
  {
   "cell_type": "code",
   "execution_count": 12,
   "id": "0f0f9582",
   "metadata": {
    "execution": {
     "iopub.execute_input": "2024-12-12T15:12:35.118458Z",
     "iopub.status.busy": "2024-12-12T15:12:35.117514Z",
     "iopub.status.idle": "2024-12-12T15:12:35.138136Z",
     "shell.execute_reply": "2024-12-12T15:12:35.136956Z"
    },
    "papermill": {
     "duration": 0.03421,
     "end_time": "2024-12-12T15:12:35.140526",
     "exception": false,
     "start_time": "2024-12-12T15:12:35.106316",
     "status": "completed"
    },
    "tags": []
   },
   "outputs": [],
   "source": [
    "import pandas as pd\n",
    "from IPython.display import display, HTML\n",
    "from pylatexenc.latex2text import LatexNodes2Text\n",
    "\n",
    "# Map misconception ID to its respective description, handling NaN values\n",
    "def map_misconception_id(value, misTable):\n",
    "    if pd.isna(value):\n",
    "        return \"No misconception/NaN\"\n",
    "    return misTable.get(int(value), \"Unknown Misconception\")\n",
    "\n",
    "# Generate an HTML block for displaying a question with its options and misconceptions\n",
    "def generate_question_html(df, index, misTable, lat2text=True):\n",
    "    # Fetch the question and options from the DataFrame\n",
    "    question = df.iloc[index].QuestionText\n",
    "    if lat2text:\n",
    "        question = LatexNodes2Text().latex_to_text(question)\n",
    "\n",
    "    options = [df[f'Answer{i}Text'].iloc[index] for i in ['A', 'B', 'C', 'D']]\n",
    "\n",
    "    # Fetch the correct answer and additional fields\n",
    "    correct_answer = df.iloc[index].CorrectAnswer\n",
    "    construct_name = df.iloc[index].ConstructName\n",
    "    subject_name = df.iloc[index].SubjectName\n",
    "\n",
    "    # Map the misconception IDs using the provided misTable\n",
    "    misconception_ids = {\n",
    "        'A': map_misconception_id(df.iloc[index].MisconceptionAId, misTable),\n",
    "        'B': map_misconception_id(df.iloc[index].MisconceptionBId, misTable),\n",
    "        'C': map_misconception_id(df.iloc[index].MisconceptionCId, misTable),\n",
    "        'D': map_misconception_id(df.iloc[index].MisconceptionDId, misTable)\n",
    "    }\n",
    "\n",
    "    # Start the HTML structure with a styled container\n",
    "    html = f\"\"\"\n",
    "    <div style=\"font-family: Arial, sans-serif; border: 2px solid #007bff; padding: 15px; border-radius: 10px; width: 60%; margin: 0 auto; background-color: #f4f9ff;\">\n",
    "        <p style=\"font-size: 16px; color: #007bff;\"><strong>Construct Name:</strong> {construct_name}</p>\n",
    "        <p style=\"font-size: 16px; color: #007bff;\"><strong>Subject Name:</strong> {subject_name}</p>\n",
    "        <hr style=\"border: 1px solid #007bff; margin: 10px 0;\">\n",
    "        <p style=\"font-size: 18px; font-weight: bold; color: #ff6f61;\">Problem:</p>\n",
    "        <p style=\"font-size: 20px; color: #333; font-weight: bold;\">{question}</p>\n",
    "        <ul style=\"list-style-type: none; padding: 0;\">\n",
    "    \"\"\"\n",
    "\n",
    "    # Option letters and corresponding options\n",
    "    for i, option in enumerate(options):\n",
    "        option_letter = ['A', 'B', 'C', 'D'][i]\n",
    "        html += f\"\"\"\n",
    "        <li style=\"background-color: #e0f2ff; padding: 10px; margin: 5px 0; border-radius: 5px;\">\n",
    "            <span style=\"font-weight: bold; color: #007bff;\">{option_letter}.</span> {option}\n",
    "        </li>\n",
    "        \"\"\"\n",
    "\n",
    "    # Close the list and add the correct answer\n",
    "    html += f\"\"\"\n",
    "        </ul>\n",
    "        <p style=\"font-size: 18px; font-weight: bold; color: #28a745;\">Correct answer: {correct_answer}</p>\n",
    "        <hr style=\"border: 1px solid #007bff; margin: 20px 0;\">\n",
    "        <p style=\"font-size: 16px; color: #333;\"><strong>Misconception A:</strong> {misconception_ids['A']}</p>\n",
    "        <p style=\"font-size: 16px; color: #333;\"><strong>Misconception B:</strong> {misconception_ids['B']}</p>\n",
    "        <p style=\"font-size: 16px; color: #333;\"><strong>Misconception C:</strong> {misconception_ids['C']}</p>\n",
    "        <p style=\"font-size: 16px; color: #333;\"><strong>Misconception D:</strong> {misconception_ids['D']}</p>\n",
    "    </div>\n",
    "    \"\"\"\n",
    "\n",
    "    # Display the HTML content\n",
    "    display(HTML(html))\n",
    "\n",
    "# Example Usage:\n",
    "# Assuming df is a DataFrame and misTable is a dictionary mapping misconception IDs to their descriptions\n",
    "# generate_question_html(df, index=0, misTable=misTable, lat2text=True)\n"
   ]
  },
  {
   "cell_type": "code",
   "execution_count": 13,
   "id": "c88257ce",
   "metadata": {
    "execution": {
     "iopub.execute_input": "2024-12-12T15:12:35.161032Z",
     "iopub.status.busy": "2024-12-12T15:12:35.160658Z",
     "iopub.status.idle": "2024-12-12T15:12:35.169487Z",
     "shell.execute_reply": "2024-12-12T15:12:35.168366Z"
    },
    "papermill": {
     "duration": 0.021658,
     "end_time": "2024-12-12T15:12:35.171486",
     "exception": false,
     "start_time": "2024-12-12T15:12:35.149828",
     "status": "completed"
    },
    "tags": []
   },
   "outputs": [
    {
     "data": {
      "text/html": [
       "\n",
       "    <div style=\"font-family: Arial, sans-serif; border: 2px solid #007bff; padding: 15px; border-radius: 10px; width: 60%; margin: 0 auto; background-color: #f4f9ff;\">\n",
       "        <p style=\"font-size: 16px; color: #007bff;\"><strong>Construct Name:</strong> Simplify an algebraic fraction by factorising the numerator</p>\n",
       "        <p style=\"font-size: 16px; color: #007bff;\"><strong>Subject Name:</strong> Simplifying Algebraic Fractions</p>\n",
       "        <hr style=\"border: 1px solid #007bff; margin: 10px 0;\">\n",
       "        <p style=\"font-size: 18px; font-weight: bold; color: #ff6f61;\">Problem:</p>\n",
       "        <p style=\"font-size: 20px; color: #333; font-weight: bold;\">Simplify the following, if possible: \\( \\frac{m^{2}+2 m-3}{m-3} \\)</p>\n",
       "        <ul style=\"list-style-type: none; padding: 0;\">\n",
       "    \n",
       "        <li style=\"background-color: #e0f2ff; padding: 10px; margin: 5px 0; border-radius: 5px;\">\n",
       "            <span style=\"font-weight: bold; color: #007bff;\">A.</span> \\( m+1 \\)\n",
       "        </li>\n",
       "        \n",
       "        <li style=\"background-color: #e0f2ff; padding: 10px; margin: 5px 0; border-radius: 5px;\">\n",
       "            <span style=\"font-weight: bold; color: #007bff;\">B.</span> \\( m+2 \\)\n",
       "        </li>\n",
       "        \n",
       "        <li style=\"background-color: #e0f2ff; padding: 10px; margin: 5px 0; border-radius: 5px;\">\n",
       "            <span style=\"font-weight: bold; color: #007bff;\">C.</span> \\( m-1 \\)\n",
       "        </li>\n",
       "        \n",
       "        <li style=\"background-color: #e0f2ff; padding: 10px; margin: 5px 0; border-radius: 5px;\">\n",
       "            <span style=\"font-weight: bold; color: #007bff;\">D.</span> Does not simplify\n",
       "        </li>\n",
       "        \n",
       "        </ul>\n",
       "        <p style=\"font-size: 18px; font-weight: bold; color: #28a745;\">Correct answer: D</p>\n",
       "        <hr style=\"border: 1px solid #007bff; margin: 20px 0;\">\n",
       "        <p style=\"font-size: 16px; color: #333;\"><strong>Misconception A:</strong> Does not know that to factorise a quadratic expression, to find two numbers that add to give the coefficient of the x term, and multiply to give the non variable term\n",
       "</p>\n",
       "        <p style=\"font-size: 16px; color: #333;\"><strong>Misconception B:</strong> Thinks that when you cancel identical terms from the numerator and denominator, they just disappear</p>\n",
       "        <p style=\"font-size: 16px; color: #333;\"><strong>Misconception C:</strong> Does not know that to factorise a quadratic expression, to find two numbers that add to give the coefficient of the x term, and multiply to give the non variable term\n",
       "</p>\n",
       "        <p style=\"font-size: 16px; color: #333;\"><strong>Misconception D:</strong> No misconception/NaN</p>\n",
       "    </div>\n",
       "    "
      ],
      "text/plain": [
       "<IPython.core.display.HTML object>"
      ]
     },
     "metadata": {},
     "output_type": "display_data"
    }
   ],
   "source": [
    "# Assuming train is a pandas DataFrame and misTable is a dictionary that maps misconception IDs\n",
    "index = 1\n",
    "generate_question_html(train, index, misTable=misTable, lat2text=0)\n"
   ]
  },
  {
   "cell_type": "code",
   "execution_count": 14,
   "id": "86464511",
   "metadata": {
    "execution": {
     "iopub.execute_input": "2024-12-12T15:12:35.191698Z",
     "iopub.status.busy": "2024-12-12T15:12:35.191314Z",
     "iopub.status.idle": "2024-12-12T15:12:35.208907Z",
     "shell.execute_reply": "2024-12-12T15:12:35.207823Z"
    },
    "papermill": {
     "duration": 0.030443,
     "end_time": "2024-12-12T15:12:35.211323",
     "exception": false,
     "start_time": "2024-12-12T15:12:35.180880",
     "status": "completed"
    },
    "tags": []
   },
   "outputs": [
    {
     "data": {
      "text/html": [
       "\n",
       "    <div style=\"font-family: Arial, sans-serif; border: 2px solid #007bff; padding: 15px; border-radius: 10px; width: 60%; margin: 0 auto; background-color: #f4f9ff;\">\n",
       "        <p style=\"font-size: 16px; color: #007bff;\"><strong>Construct Name:</strong> Calculate the range from a list of data</p>\n",
       "        <p style=\"font-size: 16px; color: #007bff;\"><strong>Subject Name:</strong> Range and Interquartile Range from a List of Data</p>\n",
       "        <hr style=\"border: 1px solid #007bff; margin: 10px 0;\">\n",
       "        <p style=\"font-size: 18px; font-weight: bold; color: #ff6f61;\">Problem:</p>\n",
       "        <p style=\"font-size: 20px; color: #333; font-weight: bold;\">Tom and Katie are discussing the 5 plants with these heights:\n",
       "24  cm, 17  cm, 42  cm, 26  cm, 13  cm\n",
       "Tom says if all the plants were cut in half, the range wouldn't change.\n",
       "Katie says if all the plants grew by 3  cm each, the range wouldn't change.\n",
       "Who do you agree with?</p>\n",
       "        <ul style=\"list-style-type: none; padding: 0;\">\n",
       "    \n",
       "        <li style=\"background-color: #e0f2ff; padding: 10px; margin: 5px 0; border-radius: 5px;\">\n",
       "            <span style=\"font-weight: bold; color: #007bff;\">A.</span> Only\n",
       "Tom\n",
       "        </li>\n",
       "        \n",
       "        <li style=\"background-color: #e0f2ff; padding: 10px; margin: 5px 0; border-radius: 5px;\">\n",
       "            <span style=\"font-weight: bold; color: #007bff;\">B.</span> Only\n",
       "Katie\n",
       "        </li>\n",
       "        \n",
       "        <li style=\"background-color: #e0f2ff; padding: 10px; margin: 5px 0; border-radius: 5px;\">\n",
       "            <span style=\"font-weight: bold; color: #007bff;\">C.</span> Both Tom and Katie\n",
       "        </li>\n",
       "        \n",
       "        <li style=\"background-color: #e0f2ff; padding: 10px; margin: 5px 0; border-radius: 5px;\">\n",
       "            <span style=\"font-weight: bold; color: #007bff;\">D.</span> Neither is correct\n",
       "        </li>\n",
       "        \n",
       "        </ul>\n",
       "        <p style=\"font-size: 18px; font-weight: bold; color: #28a745;\">Correct answer: B</p>\n",
       "        <hr style=\"border: 1px solid #007bff; margin: 20px 0;\">\n",
       "        <p style=\"font-size: 16px; color: #333;\"><strong>Misconception A:</strong> Believes if you changed all values by the same proportion the range would not change</p>\n",
       "        <p style=\"font-size: 16px; color: #333;\"><strong>Misconception B:</strong> No misconception/NaN</p>\n",
       "        <p style=\"font-size: 16px; color: #333;\"><strong>Misconception C:</strong> Believes if you changed all values by the same proportion the range would not change</p>\n",
       "        <p style=\"font-size: 16px; color: #333;\"><strong>Misconception D:</strong> Believes if you add the same value to all numbers in the dataset the range will change</p>\n",
       "    </div>\n",
       "    "
      ],
      "text/plain": [
       "<IPython.core.display.HTML object>"
      ]
     },
     "metadata": {},
     "output_type": "display_data"
    }
   ],
   "source": [
    "index = 2\n",
    "generate_question_html(train, index, misTable=misTable, lat2text=1)"
   ]
  },
  {
   "cell_type": "code",
   "execution_count": 15,
   "id": "3cd1bd0a",
   "metadata": {
    "execution": {
     "iopub.execute_input": "2024-12-12T15:12:35.233975Z",
     "iopub.status.busy": "2024-12-12T15:12:35.233608Z",
     "iopub.status.idle": "2024-12-12T15:12:35.243965Z",
     "shell.execute_reply": "2024-12-12T15:12:35.242891Z"
    },
    "papermill": {
     "duration": 0.023244,
     "end_time": "2024-12-12T15:12:35.246120",
     "exception": false,
     "start_time": "2024-12-12T15:12:35.222876",
     "status": "completed"
    },
    "tags": []
   },
   "outputs": [
    {
     "data": {
      "text/html": [
       "\n",
       "    <div style=\"font-family: Arial, sans-serif; border: 2px solid #007bff; padding: 15px; border-radius: 10px; width: 60%; margin: 0 auto; background-color: #f4f9ff;\">\n",
       "        <p style=\"font-size: 16px; color: #007bff;\"><strong>Construct Name:</strong> Recall and use the intersecting diagonals properties of a rectangle</p>\n",
       "        <p style=\"font-size: 16px; color: #007bff;\"><strong>Subject Name:</strong> Properties of Quadrilaterals</p>\n",
       "        <hr style=\"border: 1px solid #007bff; margin: 10px 0;\">\n",
       "        <p style=\"font-size: 18px; font-weight: bold; color: #ff6f61;\">Problem:</p>\n",
       "        <p style=\"font-size: 20px; color: #333; font-weight: bold;\">The angles highlighted on this rectangle with different length sides can never be... ![A rectangle with the diagonals drawn in. The angle on the right hand side at the centre is highlighted in red and the angle at the bottom at the centre is highlighted in yellow.]()</p>\n",
       "        <ul style=\"list-style-type: none; padding: 0;\">\n",
       "    \n",
       "        <li style=\"background-color: #e0f2ff; padding: 10px; margin: 5px 0; border-radius: 5px;\">\n",
       "            <span style=\"font-weight: bold; color: #007bff;\">A.</span> acute\n",
       "        </li>\n",
       "        \n",
       "        <li style=\"background-color: #e0f2ff; padding: 10px; margin: 5px 0; border-radius: 5px;\">\n",
       "            <span style=\"font-weight: bold; color: #007bff;\">B.</span> obtuse\n",
       "        </li>\n",
       "        \n",
       "        <li style=\"background-color: #e0f2ff; padding: 10px; margin: 5px 0; border-radius: 5px;\">\n",
       "            <span style=\"font-weight: bold; color: #007bff;\">C.</span> \\( 90^{\\circ} \\)\n",
       "        </li>\n",
       "        \n",
       "        <li style=\"background-color: #e0f2ff; padding: 10px; margin: 5px 0; border-radius: 5px;\">\n",
       "            <span style=\"font-weight: bold; color: #007bff;\">D.</span> Not enough information\n",
       "        </li>\n",
       "        \n",
       "        </ul>\n",
       "        <p style=\"font-size: 18px; font-weight: bold; color: #28a745;\">Correct answer: C</p>\n",
       "        <hr style=\"border: 1px solid #007bff; margin: 20px 0;\">\n",
       "        <p style=\"font-size: 16px; color: #333;\"><strong>Misconception A:</strong> Does not know the properties of a rectangle</p>\n",
       "        <p style=\"font-size: 16px; color: #333;\"><strong>Misconception B:</strong> Does not know the properties of a rectangle</p>\n",
       "        <p style=\"font-size: 16px; color: #333;\"><strong>Misconception C:</strong> No misconception/NaN</p>\n",
       "        <p style=\"font-size: 16px; color: #333;\"><strong>Misconception D:</strong> Does not know the properties of a rectangle</p>\n",
       "    </div>\n",
       "    "
      ],
      "text/plain": [
       "<IPython.core.display.HTML object>"
      ]
     },
     "metadata": {},
     "output_type": "display_data"
    }
   ],
   "source": [
    "index = 3\n",
    "generate_question_html(train, index, misTable=misTable, lat2text=1)"
   ]
  },
  {
   "cell_type": "code",
   "execution_count": 16,
   "id": "56c61fd6",
   "metadata": {
    "execution": {
     "iopub.execute_input": "2024-12-12T15:12:35.267439Z",
     "iopub.status.busy": "2024-12-12T15:12:35.266368Z",
     "iopub.status.idle": "2024-12-12T15:12:35.278502Z",
     "shell.execute_reply": "2024-12-12T15:12:35.277428Z"
    },
    "papermill": {
     "duration": 0.024972,
     "end_time": "2024-12-12T15:12:35.280684",
     "exception": false,
     "start_time": "2024-12-12T15:12:35.255712",
     "status": "completed"
    },
    "tags": []
   },
   "outputs": [
    {
     "data": {
      "text/html": [
       "\n",
       "    <div style=\"font-family: Arial, sans-serif; border: 2px solid #007bff; padding: 15px; border-radius: 10px; width: 60%; margin: 0 auto; background-color: #f4f9ff;\">\n",
       "        <p style=\"font-size: 16px; color: #007bff;\"><strong>Construct Name:</strong> Substitute positive integer values into formulae involving powers or roots</p>\n",
       "        <p style=\"font-size: 16px; color: #007bff;\"><strong>Subject Name:</strong> Substitution into Formula</p>\n",
       "        <hr style=\"border: 1px solid #007bff; margin: 10px 0;\">\n",
       "        <p style=\"font-size: 18px; font-weight: bold; color: #ff6f61;\">Problem:</p>\n",
       "        <p style=\"font-size: 20px; color: #333; font-weight: bold;\">The equation f=3 r^2+3 is used to find values in the table below. What is the value covered by the star? \n",
       "r     1     2     3     4 \n",
       "\n",
       "f     6     15          \n",
       "\n",
       "</p>\n",
       "        <ul style=\"list-style-type: none; padding: 0;\">\n",
       "    \n",
       "        <li style=\"background-color: #e0f2ff; padding: 10px; margin: 5px 0; border-radius: 5px;\">\n",
       "            <span style=\"font-weight: bold; color: #007bff;\">A.</span> \\( 30 \\)\n",
       "        </li>\n",
       "        \n",
       "        <li style=\"background-color: #e0f2ff; padding: 10px; margin: 5px 0; border-radius: 5px;\">\n",
       "            <span style=\"font-weight: bold; color: #007bff;\">B.</span> \\( 27 \\)\n",
       "        </li>\n",
       "        \n",
       "        <li style=\"background-color: #e0f2ff; padding: 10px; margin: 5px 0; border-radius: 5px;\">\n",
       "            <span style=\"font-weight: bold; color: #007bff;\">C.</span> \\( 51 \\)\n",
       "        </li>\n",
       "        \n",
       "        <li style=\"background-color: #e0f2ff; padding: 10px; margin: 5px 0; border-radius: 5px;\">\n",
       "            <span style=\"font-weight: bold; color: #007bff;\">D.</span> \\( 24 \\)\n",
       "        </li>\n",
       "        \n",
       "        </ul>\n",
       "        <p style=\"font-size: 18px; font-weight: bold; color: #28a745;\">Correct answer: A</p>\n",
       "        <hr style=\"border: 1px solid #007bff; margin: 20px 0;\">\n",
       "        <p style=\"font-size: 16px; color: #333;\"><strong>Misconception A:</strong> No misconception/NaN</p>\n",
       "        <p style=\"font-size: 16px; color: #333;\"><strong>Misconception B:</strong> No misconception/NaN</p>\n",
       "        <p style=\"font-size: 16px; color: #333;\"><strong>Misconception C:</strong> No misconception/NaN</p>\n",
       "        <p style=\"font-size: 16px; color: #333;\"><strong>Misconception D:</strong> Thinks you can find missing values in a given table by treating the row as linear and adding on the difference between the first two values given.</p>\n",
       "    </div>\n",
       "    "
      ],
      "text/plain": [
       "<IPython.core.display.HTML object>"
      ]
     },
     "metadata": {},
     "output_type": "display_data"
    }
   ],
   "source": [
    "index = 4\n",
    "generate_question_html(train, index, misTable=misTable, lat2text=1)"
   ]
  },
  {
   "cell_type": "code",
   "execution_count": 17,
   "id": "89758224",
   "metadata": {
    "execution": {
     "iopub.execute_input": "2024-12-12T15:12:35.301840Z",
     "iopub.status.busy": "2024-12-12T15:12:35.301392Z",
     "iopub.status.idle": "2024-12-12T15:12:35.312068Z",
     "shell.execute_reply": "2024-12-12T15:12:35.310947Z"
    },
    "papermill": {
     "duration": 0.023696,
     "end_time": "2024-12-12T15:12:35.314346",
     "exception": false,
     "start_time": "2024-12-12T15:12:35.290650",
     "status": "completed"
    },
    "tags": []
   },
   "outputs": [
    {
     "data": {
      "text/html": [
       "\n",
       "    <div style=\"font-family: Arial, sans-serif; border: 2px solid #007bff; padding: 15px; border-radius: 10px; width: 60%; margin: 0 auto; background-color: #f4f9ff;\">\n",
       "        <p style=\"font-size: 16px; color: #007bff;\"><strong>Construct Name:</strong> Identify a unit of area</p>\n",
       "        <p style=\"font-size: 16px; color: #007bff;\"><strong>Subject Name:</strong> Area of Simple Shapes</p>\n",
       "        <hr style=\"border: 1px solid #007bff; margin: 10px 0;\">\n",
       "        <p style=\"font-size: 18px; font-weight: bold; color: #ff6f61;\">Problem:</p>\n",
       "        <p style=\"font-size: 20px; color: #333; font-weight: bold;\">James has answered a question on the area of a trapezium and got an answer of 54.\n",
       "\n",
       "Behind the star he has written the units that he used.\n",
       "\n",
       "54\n",
       "\n",
       "Which of the following units could be correct?</p>\n",
       "        <ul style=\"list-style-type: none; padding: 0;\">\n",
       "    \n",
       "        <li style=\"background-color: #e0f2ff; padding: 10px; margin: 5px 0; border-radius: 5px;\">\n",
       "            <span style=\"font-weight: bold; color: #007bff;\">A.</span> \\( m \\)\n",
       "        </li>\n",
       "        \n",
       "        <li style=\"background-color: #e0f2ff; padding: 10px; margin: 5px 0; border-radius: 5px;\">\n",
       "            <span style=\"font-weight: bold; color: #007bff;\">B.</span> \\( \\mathrm{cm} \\)\n",
       "        </li>\n",
       "        \n",
       "        <li style=\"background-color: #e0f2ff; padding: 10px; margin: 5px 0; border-radius: 5px;\">\n",
       "            <span style=\"font-weight: bold; color: #007bff;\">C.</span> \\( \\mathrm{km}^{3} \\)\n",
       "        </li>\n",
       "        \n",
       "        <li style=\"background-color: #e0f2ff; padding: 10px; margin: 5px 0; border-radius: 5px;\">\n",
       "            <span style=\"font-weight: bold; color: #007bff;\">D.</span> \\( \\mathrm{mm}^{2} \\)\n",
       "        </li>\n",
       "        \n",
       "        </ul>\n",
       "        <p style=\"font-size: 18px; font-weight: bold; color: #28a745;\">Correct answer: D</p>\n",
       "        <hr style=\"border: 1px solid #007bff; margin: 20px 0;\">\n",
       "        <p style=\"font-size: 16px; color: #333;\"><strong>Misconception A:</strong> Does not know units of area should be squared</p>\n",
       "        <p style=\"font-size: 16px; color: #333;\"><strong>Misconception B:</strong> Does not know units of area should be squared</p>\n",
       "        <p style=\"font-size: 16px; color: #333;\"><strong>Misconception C:</strong> Does not know units of area should be squared</p>\n",
       "        <p style=\"font-size: 16px; color: #333;\"><strong>Misconception D:</strong> No misconception/NaN</p>\n",
       "    </div>\n",
       "    "
      ],
      "text/plain": [
       "<IPython.core.display.HTML object>"
      ]
     },
     "metadata": {},
     "output_type": "display_data"
    }
   ],
   "source": [
    "index = 5\n",
    "generate_question_html(train, index, misTable=misTable, lat2text=1)"
   ]
  },
  {
   "cell_type": "code",
   "execution_count": 18,
   "id": "08be86ed",
   "metadata": {
    "execution": {
     "iopub.execute_input": "2024-12-12T15:12:35.336071Z",
     "iopub.status.busy": "2024-12-12T15:12:35.335669Z",
     "iopub.status.idle": "2024-12-12T15:12:35.345272Z",
     "shell.execute_reply": "2024-12-12T15:12:35.344115Z"
    },
    "papermill": {
     "duration": 0.022865,
     "end_time": "2024-12-12T15:12:35.347434",
     "exception": false,
     "start_time": "2024-12-12T15:12:35.324569",
     "status": "completed"
    },
    "tags": []
   },
   "outputs": [
    {
     "data": {
      "text/html": [
       "\n",
       "    <div style=\"font-family: Arial, sans-serif; border: 2px solid #007bff; padding: 15px; border-radius: 10px; width: 60%; margin: 0 auto; background-color: #f4f9ff;\">\n",
       "        <p style=\"font-size: 16px; color: #007bff;\"><strong>Construct Name:</strong> Convert two digit integer percentages to fractions</p>\n",
       "        <p style=\"font-size: 16px; color: #007bff;\"><strong>Subject Name:</strong> Converting between Fractions and Percentages</p>\n",
       "        <hr style=\"border: 1px solid #007bff; margin: 10px 0;\">\n",
       "        <p style=\"font-size: 18px; font-weight: bold; color: #ff6f61;\">Problem:</p>\n",
       "        <p style=\"font-size: 20px; color: #333; font-weight: bold;\">Convert this percentage to a fraction\n",
       "62 %</p>\n",
       "        <ul style=\"list-style-type: none; padding: 0;\">\n",
       "    \n",
       "        <li style=\"background-color: #e0f2ff; padding: 10px; margin: 5px 0; border-radius: 5px;\">\n",
       "            <span style=\"font-weight: bold; color: #007bff;\">A.</span> \\( \\frac{62}{10} \\)\n",
       "        </li>\n",
       "        \n",
       "        <li style=\"background-color: #e0f2ff; padding: 10px; margin: 5px 0; border-radius: 5px;\">\n",
       "            <span style=\"font-weight: bold; color: #007bff;\">B.</span> \\( \\frac{31}{50} \\)\n",
       "        </li>\n",
       "        \n",
       "        <li style=\"background-color: #e0f2ff; padding: 10px; margin: 5px 0; border-radius: 5px;\">\n",
       "            <span style=\"font-weight: bold; color: #007bff;\">C.</span> \\( \\frac{6}{2} \\)\n",
       "        </li>\n",
       "        \n",
       "        <li style=\"background-color: #e0f2ff; padding: 10px; margin: 5px 0; border-radius: 5px;\">\n",
       "            <span style=\"font-weight: bold; color: #007bff;\">D.</span> None of these\n",
       "        </li>\n",
       "        \n",
       "        </ul>\n",
       "        <p style=\"font-size: 18px; font-weight: bold; color: #28a745;\">Correct answer: B</p>\n",
       "        <hr style=\"border: 1px solid #007bff; margin: 20px 0;\">\n",
       "        <p style=\"font-size: 16px; color: #333;\"><strong>Misconception A:</strong> Does not understand a percentage is out of 100</p>\n",
       "        <p style=\"font-size: 16px; color: #333;\"><strong>Misconception B:</strong> No misconception/NaN</p>\n",
       "        <p style=\"font-size: 16px; color: #333;\"><strong>Misconception C:</strong> Thinks they can convert a 2 digit percentage to a fraction by writing one number over the other.</p>\n",
       "        <p style=\"font-size: 16px; color: #333;\"><strong>Misconception D:</strong> Does not understand a percentage is out of 100</p>\n",
       "    </div>\n",
       "    "
      ],
      "text/plain": [
       "<IPython.core.display.HTML object>"
      ]
     },
     "metadata": {},
     "output_type": "display_data"
    }
   ],
   "source": [
    "index = 6\n",
    "generate_question_html(train, index, misTable=misTable, lat2text=1)"
   ]
  },
  {
   "cell_type": "code",
   "execution_count": 19,
   "id": "051b4e2f",
   "metadata": {
    "execution": {
     "iopub.execute_input": "2024-12-12T15:12:35.369616Z",
     "iopub.status.busy": "2024-12-12T15:12:35.369183Z",
     "iopub.status.idle": "2024-12-12T15:12:35.378386Z",
     "shell.execute_reply": "2024-12-12T15:12:35.377100Z"
    },
    "papermill": {
     "duration": 0.023183,
     "end_time": "2024-12-12T15:12:35.380941",
     "exception": false,
     "start_time": "2024-12-12T15:12:35.357758",
     "status": "completed"
    },
    "tags": []
   },
   "outputs": [
    {
     "data": {
      "text/html": [
       "\n",
       "    <div style=\"font-family: Arial, sans-serif; border: 2px solid #007bff; padding: 15px; border-radius: 10px; width: 60%; margin: 0 auto; background-color: #f4f9ff;\">\n",
       "        <p style=\"font-size: 16px; color: #007bff;\"><strong>Construct Name:</strong> Divide decimals by 10</p>\n",
       "        <p style=\"font-size: 16px; color: #007bff;\"><strong>Subject Name:</strong> Multiplying and Dividing with Decimals</p>\n",
       "        <hr style=\"border: 1px solid #007bff; margin: 10px 0;\">\n",
       "        <p style=\"font-size: 18px; font-weight: bold; color: #ff6f61;\">Problem:</p>\n",
       "        <p style=\"font-size: 20px; color: #333; font-weight: bold;\">43.2 ÷ 10=</p>\n",
       "        <ul style=\"list-style-type: none; padding: 0;\">\n",
       "    \n",
       "        <li style=\"background-color: #e0f2ff; padding: 10px; margin: 5px 0; border-radius: 5px;\">\n",
       "            <span style=\"font-weight: bold; color: #007bff;\">A.</span> \\( 4.32 \\)\n",
       "        </li>\n",
       "        \n",
       "        <li style=\"background-color: #e0f2ff; padding: 10px; margin: 5px 0; border-radius: 5px;\">\n",
       "            <span style=\"font-weight: bold; color: #007bff;\">B.</span> \\( 0.432 \\)\n",
       "        </li>\n",
       "        \n",
       "        <li style=\"background-color: #e0f2ff; padding: 10px; margin: 5px 0; border-radius: 5px;\">\n",
       "            <span style=\"font-weight: bold; color: #007bff;\">C.</span> \\( 33.2 \\)\n",
       "        </li>\n",
       "        \n",
       "        <li style=\"background-color: #e0f2ff; padding: 10px; margin: 5px 0; border-radius: 5px;\">\n",
       "            <span style=\"font-weight: bold; color: #007bff;\">D.</span> \\( 43.02 \\)\n",
       "        </li>\n",
       "        \n",
       "        </ul>\n",
       "        <p style=\"font-size: 18px; font-weight: bold; color: #28a745;\">Correct answer: A</p>\n",
       "        <hr style=\"border: 1px solid #007bff; margin: 20px 0;\">\n",
       "        <p style=\"font-size: 16px; color: #333;\"><strong>Misconception A:</strong> No misconception/NaN</p>\n",
       "        <p style=\"font-size: 16px; color: #333;\"><strong>Misconception B:</strong> Divided by 100 rather than 10</p>\n",
       "        <p style=\"font-size: 16px; color: #333;\"><strong>Misconception C:</strong> Subtracts instead of divides</p>\n",
       "        <p style=\"font-size: 16px; color: #333;\"><strong>Misconception D:</strong> When dividing a decimal by a multiple of 10, just divides the fractional place values </p>\n",
       "    </div>\n",
       "    "
      ],
      "text/plain": [
       "<IPython.core.display.HTML object>"
      ]
     },
     "metadata": {},
     "output_type": "display_data"
    }
   ],
   "source": [
    "index = 7\n",
    "generate_question_html(train, index, misTable=misTable, lat2text=1)\n"
   ]
  },
  {
   "cell_type": "code",
   "execution_count": 20,
   "id": "8636ea9d",
   "metadata": {
    "execution": {
     "iopub.execute_input": "2024-12-12T15:12:35.403079Z",
     "iopub.status.busy": "2024-12-12T15:12:35.402682Z",
     "iopub.status.idle": "2024-12-12T15:12:35.413285Z",
     "shell.execute_reply": "2024-12-12T15:12:35.412091Z"
    },
    "papermill": {
     "duration": 0.024386,
     "end_time": "2024-12-12T15:12:35.415613",
     "exception": false,
     "start_time": "2024-12-12T15:12:35.391227",
     "status": "completed"
    },
    "tags": []
   },
   "outputs": [
    {
     "data": {
      "text/html": [
       "\n",
       "    <div style=\"font-family: Arial, sans-serif; border: 2px solid #007bff; padding: 15px; border-radius: 10px; width: 60%; margin: 0 auto; background-color: #f4f9ff;\">\n",
       "        <p style=\"font-size: 16px; color: #007bff;\"><strong>Construct Name:</strong> Subtract proper fractions with different denominators which do not share a common factor</p>\n",
       "        <p style=\"font-size: 16px; color: #007bff;\"><strong>Subject Name:</strong> Adding and Subtracting Fractions</p>\n",
       "        <hr style=\"border: 1px solid #007bff; margin: 10px 0;\">\n",
       "        <p style=\"font-size: 18px; font-weight: bold; color: #ff6f61;\">Problem:</p>\n",
       "        <p style=\"font-size: 20px; color: #333; font-weight: bold;\">4/5-1/3=/15\n",
       "What should replace the star?</p>\n",
       "        <ul style=\"list-style-type: none; padding: 0;\">\n",
       "    \n",
       "        <li style=\"background-color: #e0f2ff; padding: 10px; margin: 5px 0; border-radius: 5px;\">\n",
       "            <span style=\"font-weight: bold; color: #007bff;\">A.</span> \\( 7 \\)\n",
       "        </li>\n",
       "        \n",
       "        <li style=\"background-color: #e0f2ff; padding: 10px; margin: 5px 0; border-radius: 5px;\">\n",
       "            <span style=\"font-weight: bold; color: #007bff;\">B.</span> \\( 5 \\)\n",
       "        </li>\n",
       "        \n",
       "        <li style=\"background-color: #e0f2ff; padding: 10px; margin: 5px 0; border-radius: 5px;\">\n",
       "            <span style=\"font-weight: bold; color: #007bff;\">C.</span> \\( 17 \\)\n",
       "        </li>\n",
       "        \n",
       "        <li style=\"background-color: #e0f2ff; padding: 10px; margin: 5px 0; border-radius: 5px;\">\n",
       "            <span style=\"font-weight: bold; color: #007bff;\">D.</span> \\( 3 \\)\n",
       "        </li>\n",
       "        \n",
       "        </ul>\n",
       "        <p style=\"font-size: 18px; font-weight: bold; color: #28a745;\">Correct answer: A</p>\n",
       "        <hr style=\"border: 1px solid #007bff; margin: 20px 0;\">\n",
       "        <p style=\"font-size: 16px; color: #333;\"><strong>Misconception A:</strong> No misconception/NaN</p>\n",
       "        <p style=\"font-size: 16px; color: #333;\"><strong>Misconception B:</strong> Does not find a common denominator when adding/subtracting fractions</p>\n",
       "        <p style=\"font-size: 16px; color: #333;\"><strong>Misconception C:</strong> Adds instead of subtracts</p>\n",
       "        <p style=\"font-size: 16px; color: #333;\"><strong>Misconception D:</strong> Does not find a common denominator when adding/subtracting fractions</p>\n",
       "    </div>\n",
       "    "
      ],
      "text/plain": [
       "<IPython.core.display.HTML object>"
      ]
     },
     "metadata": {},
     "output_type": "display_data"
    }
   ],
   "source": [
    "index = 8\n",
    "generate_question_html(train, index, misTable=misTable, lat2text=1)"
   ]
  },
  {
   "cell_type": "code",
   "execution_count": 21,
   "id": "99c08db5",
   "metadata": {
    "execution": {
     "iopub.execute_input": "2024-12-12T15:12:35.438834Z",
     "iopub.status.busy": "2024-12-12T15:12:35.438454Z",
     "iopub.status.idle": "2024-12-12T15:12:35.452810Z",
     "shell.execute_reply": "2024-12-12T15:12:35.451802Z"
    },
    "papermill": {
     "duration": 0.028121,
     "end_time": "2024-12-12T15:12:35.454795",
     "exception": false,
     "start_time": "2024-12-12T15:12:35.426674",
     "status": "completed"
    },
    "tags": []
   },
   "outputs": [
    {
     "data": {
      "text/html": [
       "<div>\n",
       "<style scoped>\n",
       "    .dataframe tbody tr th:only-of-type {\n",
       "        vertical-align: middle;\n",
       "    }\n",
       "\n",
       "    .dataframe tbody tr th {\n",
       "        vertical-align: top;\n",
       "    }\n",
       "\n",
       "    .dataframe thead th {\n",
       "        text-align: right;\n",
       "    }\n",
       "</style>\n",
       "<table border=\"1\" class=\"dataframe\">\n",
       "  <thead>\n",
       "    <tr style=\"text-align: right;\">\n",
       "      <th></th>\n",
       "      <th>QuestionId</th>\n",
       "      <th>ConstructId</th>\n",
       "      <th>ConstructName</th>\n",
       "      <th>SubjectId</th>\n",
       "      <th>SubjectName</th>\n",
       "      <th>CorrectAnswer</th>\n",
       "      <th>QuestionText</th>\n",
       "      <th>AnswerAText</th>\n",
       "      <th>AnswerBText</th>\n",
       "      <th>AnswerCText</th>\n",
       "      <th>AnswerDText</th>\n",
       "    </tr>\n",
       "  </thead>\n",
       "  <tbody>\n",
       "    <tr>\n",
       "      <th>0</th>\n",
       "      <td>1869</td>\n",
       "      <td>856</td>\n",
       "      <td>Use the order of operations to carry out calcu...</td>\n",
       "      <td>33</td>\n",
       "      <td>BIDMAS</td>\n",
       "      <td>A</td>\n",
       "      <td>\\[\\n3 \\times 2+4-5\\n\\]\\nWhere do the brackets ...</td>\n",
       "      <td>\\( 3 \\times(2+4)-5 \\)</td>\n",
       "      <td>\\( 3 \\times 2+(4-5) \\)</td>\n",
       "      <td>\\( 3 \\times(2+4-5) \\)</td>\n",
       "      <td>Does not need brackets</td>\n",
       "    </tr>\n",
       "    <tr>\n",
       "      <th>1</th>\n",
       "      <td>1870</td>\n",
       "      <td>1612</td>\n",
       "      <td>Simplify an algebraic fraction by factorising ...</td>\n",
       "      <td>1077</td>\n",
       "      <td>Simplifying Algebraic Fractions</td>\n",
       "      <td>D</td>\n",
       "      <td>Simplify the following, if possible: \\( \\frac{...</td>\n",
       "      <td>\\( m+1 \\)</td>\n",
       "      <td>\\( m+2 \\)</td>\n",
       "      <td>\\( m-1 \\)</td>\n",
       "      <td>Does not simplify</td>\n",
       "    </tr>\n",
       "    <tr>\n",
       "      <th>2</th>\n",
       "      <td>1871</td>\n",
       "      <td>2774</td>\n",
       "      <td>Calculate the range from a list of data</td>\n",
       "      <td>339</td>\n",
       "      <td>Range and Interquartile Range from a List of Data</td>\n",
       "      <td>B</td>\n",
       "      <td>Tom and Katie are discussing the \\( 5 \\) plant...</td>\n",
       "      <td>Only\\nTom</td>\n",
       "      <td>Only\\nKatie</td>\n",
       "      <td>Both Tom and Katie</td>\n",
       "      <td>Neither is correct</td>\n",
       "    </tr>\n",
       "  </tbody>\n",
       "</table>\n",
       "</div>"
      ],
      "text/plain": [
       "   QuestionId  ConstructId                                      ConstructName  \\\n",
       "0        1869          856  Use the order of operations to carry out calcu...   \n",
       "1        1870         1612  Simplify an algebraic fraction by factorising ...   \n",
       "2        1871         2774            Calculate the range from a list of data   \n",
       "\n",
       "   SubjectId                                        SubjectName CorrectAnswer  \\\n",
       "0         33                                             BIDMAS             A   \n",
       "1       1077                    Simplifying Algebraic Fractions             D   \n",
       "2        339  Range and Interquartile Range from a List of Data             B   \n",
       "\n",
       "                                        QuestionText            AnswerAText  \\\n",
       "0  \\[\\n3 \\times 2+4-5\\n\\]\\nWhere do the brackets ...  \\( 3 \\times(2+4)-5 \\)   \n",
       "1  Simplify the following, if possible: \\( \\frac{...              \\( m+1 \\)   \n",
       "2  Tom and Katie are discussing the \\( 5 \\) plant...              Only\\nTom   \n",
       "\n",
       "              AnswerBText            AnswerCText             AnswerDText  \n",
       "0  \\( 3 \\times 2+(4-5) \\)  \\( 3 \\times(2+4-5) \\)  Does not need brackets  \n",
       "1               \\( m+2 \\)              \\( m-1 \\)       Does not simplify  \n",
       "2             Only\\nKatie     Both Tom and Katie      Neither is correct  "
      ]
     },
     "execution_count": 21,
     "metadata": {},
     "output_type": "execute_result"
    }
   ],
   "source": [
    "test.head()"
   ]
  },
  {
   "cell_type": "code",
   "execution_count": 22,
   "id": "9798eaa7",
   "metadata": {
    "execution": {
     "iopub.execute_input": "2024-12-12T15:12:35.477817Z",
     "iopub.status.busy": "2024-12-12T15:12:35.477421Z",
     "iopub.status.idle": "2024-12-12T15:12:35.487228Z",
     "shell.execute_reply": "2024-12-12T15:12:35.485989Z"
    },
    "papermill": {
     "duration": 0.023708,
     "end_time": "2024-12-12T15:12:35.489162",
     "exception": false,
     "start_time": "2024-12-12T15:12:35.465454",
     "status": "completed"
    },
    "tags": []
   },
   "outputs": [
    {
     "data": {
      "text/html": [
       "<div>\n",
       "<style scoped>\n",
       "    .dataframe tbody tr th:only-of-type {\n",
       "        vertical-align: middle;\n",
       "    }\n",
       "\n",
       "    .dataframe tbody tr th {\n",
       "        vertical-align: top;\n",
       "    }\n",
       "\n",
       "    .dataframe thead th {\n",
       "        text-align: right;\n",
       "    }\n",
       "</style>\n",
       "<table border=\"1\" class=\"dataframe\">\n",
       "  <thead>\n",
       "    <tr style=\"text-align: right;\">\n",
       "      <th></th>\n",
       "      <th>QuestionId_Answer</th>\n",
       "      <th>MisconceptionId</th>\n",
       "    </tr>\n",
       "  </thead>\n",
       "  <tbody>\n",
       "    <tr>\n",
       "      <th>0</th>\n",
       "      <td>1869_B</td>\n",
       "      <td>1 2 3 4 5 6 7 8 9 10 11 12 13 14 15 16 17 18 1...</td>\n",
       "    </tr>\n",
       "    <tr>\n",
       "      <th>1</th>\n",
       "      <td>1869_C</td>\n",
       "      <td>1 2 3 4 5 6 7 8 9 10 11 12 13 14 15 16 17 18 1...</td>\n",
       "    </tr>\n",
       "    <tr>\n",
       "      <th>2</th>\n",
       "      <td>1869_D</td>\n",
       "      <td>1 2 3 4 5 6 7 8 9 10 11 12 13 14 15 16 17 18 1...</td>\n",
       "    </tr>\n",
       "    <tr>\n",
       "      <th>3</th>\n",
       "      <td>1870_A</td>\n",
       "      <td>1 2 3 4 5 6 7 8 9 10 11 12 13 14 15 16 17 18 1...</td>\n",
       "    </tr>\n",
       "    <tr>\n",
       "      <th>4</th>\n",
       "      <td>1870_B</td>\n",
       "      <td>1 2 3 4 5 6 7 8 9 10 11 12 13 14 15 16 17 18 1...</td>\n",
       "    </tr>\n",
       "  </tbody>\n",
       "</table>\n",
       "</div>"
      ],
      "text/plain": [
       "  QuestionId_Answer                                    MisconceptionId\n",
       "0            1869_B  1 2 3 4 5 6 7 8 9 10 11 12 13 14 15 16 17 18 1...\n",
       "1            1869_C  1 2 3 4 5 6 7 8 9 10 11 12 13 14 15 16 17 18 1...\n",
       "2            1869_D  1 2 3 4 5 6 7 8 9 10 11 12 13 14 15 16 17 18 1...\n",
       "3            1870_A  1 2 3 4 5 6 7 8 9 10 11 12 13 14 15 16 17 18 1...\n",
       "4            1870_B  1 2 3 4 5 6 7 8 9 10 11 12 13 14 15 16 17 18 1..."
      ]
     },
     "execution_count": 22,
     "metadata": {},
     "output_type": "execute_result"
    }
   ],
   "source": [
    "sub.head()"
   ]
  },
  {
   "cell_type": "code",
   "execution_count": 23,
   "id": "b8cc6232",
   "metadata": {
    "execution": {
     "iopub.execute_input": "2024-12-12T15:12:35.512047Z",
     "iopub.status.busy": "2024-12-12T15:12:35.511610Z",
     "iopub.status.idle": "2024-12-12T15:12:35.525398Z",
     "shell.execute_reply": "2024-12-12T15:12:35.524292Z"
    },
    "papermill": {
     "duration": 0.027727,
     "end_time": "2024-12-12T15:12:35.527567",
     "exception": false,
     "start_time": "2024-12-12T15:12:35.499840",
     "status": "completed"
    },
    "tags": []
   },
   "outputs": [
    {
     "data": {
      "text/html": [
       "<div>\n",
       "<style scoped>\n",
       "    .dataframe tbody tr th:only-of-type {\n",
       "        vertical-align: middle;\n",
       "    }\n",
       "\n",
       "    .dataframe tbody tr th {\n",
       "        vertical-align: top;\n",
       "    }\n",
       "\n",
       "    .dataframe thead th {\n",
       "        text-align: right;\n",
       "    }\n",
       "</style>\n",
       "<table border=\"1\" class=\"dataframe\">\n",
       "  <thead>\n",
       "    <tr style=\"text-align: right;\">\n",
       "      <th></th>\n",
       "      <th>QuestionId</th>\n",
       "      <th>ConstructId</th>\n",
       "      <th>ConstructName</th>\n",
       "      <th>SubjectId</th>\n",
       "      <th>SubjectName</th>\n",
       "      <th>CorrectAnswer</th>\n",
       "      <th>QuestionText</th>\n",
       "      <th>AnswerAText</th>\n",
       "      <th>AnswerBText</th>\n",
       "      <th>AnswerCText</th>\n",
       "      <th>AnswerDText</th>\n",
       "    </tr>\n",
       "  </thead>\n",
       "  <tbody>\n",
       "    <tr>\n",
       "      <th>0</th>\n",
       "      <td>1869</td>\n",
       "      <td>856</td>\n",
       "      <td>Use the order of operations to carry out calcu...</td>\n",
       "      <td>33</td>\n",
       "      <td>BIDMAS</td>\n",
       "      <td>A</td>\n",
       "      <td>\\[\\n3 \\times 2+4-5\\n\\]\\nWhere do the brackets ...</td>\n",
       "      <td>\\( 3 \\times(2+4)-5 \\)</td>\n",
       "      <td>\\( 3 \\times 2+(4-5) \\)</td>\n",
       "      <td>\\( 3 \\times(2+4-5) \\)</td>\n",
       "      <td>Does not need brackets</td>\n",
       "    </tr>\n",
       "    <tr>\n",
       "      <th>1</th>\n",
       "      <td>1870</td>\n",
       "      <td>1612</td>\n",
       "      <td>Simplify an algebraic fraction by factorising ...</td>\n",
       "      <td>1077</td>\n",
       "      <td>Simplifying Algebraic Fractions</td>\n",
       "      <td>D</td>\n",
       "      <td>Simplify the following, if possible: \\( \\frac{...</td>\n",
       "      <td>\\( m+1 \\)</td>\n",
       "      <td>\\( m+2 \\)</td>\n",
       "      <td>\\( m-1 \\)</td>\n",
       "      <td>Does not simplify</td>\n",
       "    </tr>\n",
       "    <tr>\n",
       "      <th>2</th>\n",
       "      <td>1871</td>\n",
       "      <td>2774</td>\n",
       "      <td>Calculate the range from a list of data</td>\n",
       "      <td>339</td>\n",
       "      <td>Range and Interquartile Range from a List of Data</td>\n",
       "      <td>B</td>\n",
       "      <td>Tom and Katie are discussing the \\( 5 \\) plant...</td>\n",
       "      <td>Only\\nTom</td>\n",
       "      <td>Only\\nKatie</td>\n",
       "      <td>Both Tom and Katie</td>\n",
       "      <td>Neither is correct</td>\n",
       "    </tr>\n",
       "  </tbody>\n",
       "</table>\n",
       "</div>"
      ],
      "text/plain": [
       "   QuestionId  ConstructId                                      ConstructName  \\\n",
       "0        1869          856  Use the order of operations to carry out calcu...   \n",
       "1        1870         1612  Simplify an algebraic fraction by factorising ...   \n",
       "2        1871         2774            Calculate the range from a list of data   \n",
       "\n",
       "   SubjectId                                        SubjectName CorrectAnswer  \\\n",
       "0         33                                             BIDMAS             A   \n",
       "1       1077                    Simplifying Algebraic Fractions             D   \n",
       "2        339  Range and Interquartile Range from a List of Data             B   \n",
       "\n",
       "                                        QuestionText            AnswerAText  \\\n",
       "0  \\[\\n3 \\times 2+4-5\\n\\]\\nWhere do the brackets ...  \\( 3 \\times(2+4)-5 \\)   \n",
       "1  Simplify the following, if possible: \\( \\frac{...              \\( m+1 \\)   \n",
       "2  Tom and Katie are discussing the \\( 5 \\) plant...              Only\\nTom   \n",
       "\n",
       "              AnswerBText            AnswerCText             AnswerDText  \n",
       "0  \\( 3 \\times 2+(4-5) \\)  \\( 3 \\times(2+4-5) \\)  Does not need brackets  \n",
       "1               \\( m+2 \\)              \\( m-1 \\)       Does not simplify  \n",
       "2             Only\\nKatie     Both Tom and Katie      Neither is correct  "
      ]
     },
     "execution_count": 23,
     "metadata": {},
     "output_type": "execute_result"
    }
   ],
   "source": [
    "test.tail()"
   ]
  },
  {
   "cell_type": "code",
   "execution_count": 24,
   "id": "caee099e",
   "metadata": {
    "execution": {
     "iopub.execute_input": "2024-12-12T15:12:35.550841Z",
     "iopub.status.busy": "2024-12-12T15:12:35.550461Z",
     "iopub.status.idle": "2024-12-12T15:12:35.562503Z",
     "shell.execute_reply": "2024-12-12T15:12:35.561373Z"
    },
    "papermill": {
     "duration": 0.026728,
     "end_time": "2024-12-12T15:12:35.565208",
     "exception": false,
     "start_time": "2024-12-12T15:12:35.538480",
     "status": "completed"
    },
    "tags": []
   },
   "outputs": [
    {
     "name": "stdout",
     "output_type": "stream",
     "text": [
      "<class 'pandas.core.frame.DataFrame'>\n",
      "RangeIndex: 3 entries, 0 to 2\n",
      "Data columns (total 11 columns):\n",
      " #   Column         Non-Null Count  Dtype \n",
      "---  ------         --------------  ----- \n",
      " 0   QuestionId     3 non-null      int64 \n",
      " 1   ConstructId    3 non-null      int64 \n",
      " 2   ConstructName  3 non-null      object\n",
      " 3   SubjectId      3 non-null      int64 \n",
      " 4   SubjectName    3 non-null      object\n",
      " 5   CorrectAnswer  3 non-null      object\n",
      " 6   QuestionText   3 non-null      object\n",
      " 7   AnswerAText    3 non-null      object\n",
      " 8   AnswerBText    3 non-null      object\n",
      " 9   AnswerCText    3 non-null      object\n",
      " 10  AnswerDText    3 non-null      object\n",
      "dtypes: int64(3), object(8)\n",
      "memory usage: 392.0+ bytes\n"
     ]
    }
   ],
   "source": [
    "test.info()"
   ]
  },
  {
   "cell_type": "markdown",
   "id": "100d9dc7",
   "metadata": {
    "papermill": {
     "duration": 0.010902,
     "end_time": "2024-12-12T15:12:35.587081",
     "exception": false,
     "start_time": "2024-12-12T15:12:35.576179",
     "status": "completed"
    },
    "tags": []
   },
   "source": [
    "### EDA"
   ]
  },
  {
   "cell_type": "code",
   "execution_count": 25,
   "id": "25cf8d67",
   "metadata": {
    "execution": {
     "iopub.execute_input": "2024-12-12T15:12:35.610717Z",
     "iopub.status.busy": "2024-12-12T15:12:35.610340Z",
     "iopub.status.idle": "2024-12-12T15:12:35.616860Z",
     "shell.execute_reply": "2024-12-12T15:12:35.615893Z"
    },
    "papermill": {
     "duration": 0.020849,
     "end_time": "2024-12-12T15:12:35.618933",
     "exception": false,
     "start_time": "2024-12-12T15:12:35.598084",
     "status": "completed"
    },
    "tags": []
   },
   "outputs": [
    {
     "data": {
      "text/plain": [
       "Index(['QuestionId', 'ConstructId', 'ConstructName', 'SubjectId',\n",
       "       'SubjectName', 'CorrectAnswer', 'QuestionText', 'AnswerAText',\n",
       "       'AnswerBText', 'AnswerCText', 'AnswerDText', 'MisconceptionAId',\n",
       "       'MisconceptionBId', 'MisconceptionCId', 'MisconceptionDId'],\n",
       "      dtype='object')"
      ]
     },
     "execution_count": 25,
     "metadata": {},
     "output_type": "execute_result"
    }
   ],
   "source": [
    "train.columns"
   ]
  },
  {
   "cell_type": "code",
   "execution_count": 26,
   "id": "8a45b541",
   "metadata": {
    "execution": {
     "iopub.execute_input": "2024-12-12T15:12:35.642716Z",
     "iopub.status.busy": "2024-12-12T15:12:35.642335Z",
     "iopub.status.idle": "2024-12-12T15:12:35.735876Z",
     "shell.execute_reply": "2024-12-12T15:12:35.734789Z"
    },
    "papermill": {
     "duration": 0.108141,
     "end_time": "2024-12-12T15:12:35.738291",
     "exception": false,
     "start_time": "2024-12-12T15:12:35.630150",
     "status": "completed"
    },
    "tags": []
   },
   "outputs": [
    {
     "data": {
      "text/html": [
       "<style type=\"text/css\">\n",
       "#T_c997c thead th {\n",
       "  background-color: #0044cc;\n",
       "  color: white;\n",
       "  border-color: #0044cc;\n",
       "  border-width: 1px;\n",
       "  border-style: solid;\n",
       "  font-size: 14px;\n",
       "}\n",
       "#T_c997c_row0_col0, #T_c997c_row1_col0, #T_c997c_row2_col0, #T_c997c_row3_col0, #T_c997c_row4_col0, #T_c997c_row5_col0, #T_c997c_row6_col0, #T_c997c_row7_col0, #T_c997c_row8_col0, #T_c997c_row9_col0, #T_c997c_row10_col0, #T_c997c_row11_col0, #T_c997c_row12_col0, #T_c997c_row13_col0, #T_c997c_row14_col0 {\n",
       "  background-color: #f0f8ff;\n",
       "  color: #333;\n",
       "  border-color: #0044cc;\n",
       "  border-width: 1px;\n",
       "  border-style: solid;\n",
       "  text-align: center;\n",
       "  padding: 8px;\n",
       "  font-weight: bold;\n",
       "}\n",
       "#T_c997c_row0_col1, #T_c997c_row1_col1, #T_c997c_row2_col1, #T_c997c_row3_col1, #T_c997c_row4_col1, #T_c997c_row5_col1, #T_c997c_row6_col1, #T_c997c_row7_col1, #T_c997c_row8_col1, #T_c997c_row9_col1, #T_c997c_row10_col1 {\n",
       "  background-color: #f0f8ff;\n",
       "  color: #333;\n",
       "  border-color: #0044cc;\n",
       "  border-width: 1px;\n",
       "  border-style: solid;\n",
       "  text-align: center;\n",
       "  padding: 8px;\n",
       "  font-weight: bold;\n",
       "  background-color: lightgreen;\n",
       "}\n",
       "#T_c997c_row11_col1, #T_c997c_row12_col1, #T_c997c_row13_col1, #T_c997c_row14_col1 {\n",
       "  background-color: #f0f8ff;\n",
       "  color: #333;\n",
       "  border-color: #0044cc;\n",
       "  border-width: 1px;\n",
       "  border-style: solid;\n",
       "  text-align: center;\n",
       "  padding: 8px;\n",
       "  font-weight: bold;\n",
       "  background-color: lightcoral;\n",
       "}\n",
       "</style>\n",
       "<table id=\"T_c997c\">\n",
       "  <thead>\n",
       "    <tr>\n",
       "      <th class=\"blank level0\" >&nbsp;</th>\n",
       "      <th id=\"T_c997c_level0_col0\" class=\"col_heading level0 col0\" >Column</th>\n",
       "      <th id=\"T_c997c_level0_col1\" class=\"col_heading level0 col1\" >Null Values</th>\n",
       "    </tr>\n",
       "  </thead>\n",
       "  <tbody>\n",
       "    <tr>\n",
       "      <th id=\"T_c997c_level0_row0\" class=\"row_heading level0 row0\" >0</th>\n",
       "      <td id=\"T_c997c_row0_col0\" class=\"data row0 col0\" >QuestionId</td>\n",
       "      <td id=\"T_c997c_row0_col1\" class=\"data row0 col1\" >0</td>\n",
       "    </tr>\n",
       "    <tr>\n",
       "      <th id=\"T_c997c_level0_row1\" class=\"row_heading level0 row1\" >1</th>\n",
       "      <td id=\"T_c997c_row1_col0\" class=\"data row1 col0\" >ConstructId</td>\n",
       "      <td id=\"T_c997c_row1_col1\" class=\"data row1 col1\" >0</td>\n",
       "    </tr>\n",
       "    <tr>\n",
       "      <th id=\"T_c997c_level0_row2\" class=\"row_heading level0 row2\" >2</th>\n",
       "      <td id=\"T_c997c_row2_col0\" class=\"data row2 col0\" >ConstructName</td>\n",
       "      <td id=\"T_c997c_row2_col1\" class=\"data row2 col1\" >0</td>\n",
       "    </tr>\n",
       "    <tr>\n",
       "      <th id=\"T_c997c_level0_row3\" class=\"row_heading level0 row3\" >3</th>\n",
       "      <td id=\"T_c997c_row3_col0\" class=\"data row3 col0\" >SubjectId</td>\n",
       "      <td id=\"T_c997c_row3_col1\" class=\"data row3 col1\" >0</td>\n",
       "    </tr>\n",
       "    <tr>\n",
       "      <th id=\"T_c997c_level0_row4\" class=\"row_heading level0 row4\" >4</th>\n",
       "      <td id=\"T_c997c_row4_col0\" class=\"data row4 col0\" >SubjectName</td>\n",
       "      <td id=\"T_c997c_row4_col1\" class=\"data row4 col1\" >0</td>\n",
       "    </tr>\n",
       "    <tr>\n",
       "      <th id=\"T_c997c_level0_row5\" class=\"row_heading level0 row5\" >5</th>\n",
       "      <td id=\"T_c997c_row5_col0\" class=\"data row5 col0\" >CorrectAnswer</td>\n",
       "      <td id=\"T_c997c_row5_col1\" class=\"data row5 col1\" >0</td>\n",
       "    </tr>\n",
       "    <tr>\n",
       "      <th id=\"T_c997c_level0_row6\" class=\"row_heading level0 row6\" >6</th>\n",
       "      <td id=\"T_c997c_row6_col0\" class=\"data row6 col0\" >QuestionText</td>\n",
       "      <td id=\"T_c997c_row6_col1\" class=\"data row6 col1\" >0</td>\n",
       "    </tr>\n",
       "    <tr>\n",
       "      <th id=\"T_c997c_level0_row7\" class=\"row_heading level0 row7\" >7</th>\n",
       "      <td id=\"T_c997c_row7_col0\" class=\"data row7 col0\" >AnswerAText</td>\n",
       "      <td id=\"T_c997c_row7_col1\" class=\"data row7 col1\" >0</td>\n",
       "    </tr>\n",
       "    <tr>\n",
       "      <th id=\"T_c997c_level0_row8\" class=\"row_heading level0 row8\" >8</th>\n",
       "      <td id=\"T_c997c_row8_col0\" class=\"data row8 col0\" >AnswerBText</td>\n",
       "      <td id=\"T_c997c_row8_col1\" class=\"data row8 col1\" >0</td>\n",
       "    </tr>\n",
       "    <tr>\n",
       "      <th id=\"T_c997c_level0_row9\" class=\"row_heading level0 row9\" >9</th>\n",
       "      <td id=\"T_c997c_row9_col0\" class=\"data row9 col0\" >AnswerCText</td>\n",
       "      <td id=\"T_c997c_row9_col1\" class=\"data row9 col1\" >0</td>\n",
       "    </tr>\n",
       "    <tr>\n",
       "      <th id=\"T_c997c_level0_row10\" class=\"row_heading level0 row10\" >10</th>\n",
       "      <td id=\"T_c997c_row10_col0\" class=\"data row10 col0\" >AnswerDText</td>\n",
       "      <td id=\"T_c997c_row10_col1\" class=\"data row10 col1\" >0</td>\n",
       "    </tr>\n",
       "    <tr>\n",
       "      <th id=\"T_c997c_level0_row11\" class=\"row_heading level0 row11\" >11</th>\n",
       "      <td id=\"T_c997c_row11_col0\" class=\"data row11 col0\" >MisconceptionAId</td>\n",
       "      <td id=\"T_c997c_row11_col1\" class=\"data row11 col1\" >734</td>\n",
       "    </tr>\n",
       "    <tr>\n",
       "      <th id=\"T_c997c_level0_row12\" class=\"row_heading level0 row12\" >12</th>\n",
       "      <td id=\"T_c997c_row12_col0\" class=\"data row12 col0\" >MisconceptionBId</td>\n",
       "      <td id=\"T_c997c_row12_col1\" class=\"data row12 col1\" >751</td>\n",
       "    </tr>\n",
       "    <tr>\n",
       "      <th id=\"T_c997c_level0_row13\" class=\"row_heading level0 row13\" >13</th>\n",
       "      <td id=\"T_c997c_row13_col0\" class=\"data row13 col0\" >MisconceptionCId</td>\n",
       "      <td id=\"T_c997c_row13_col1\" class=\"data row13 col1\" >789</td>\n",
       "    </tr>\n",
       "    <tr>\n",
       "      <th id=\"T_c997c_level0_row14\" class=\"row_heading level0 row14\" >14</th>\n",
       "      <td id=\"T_c997c_row14_col0\" class=\"data row14 col0\" >MisconceptionDId</td>\n",
       "      <td id=\"T_c997c_row14_col1\" class=\"data row14 col1\" >832</td>\n",
       "    </tr>\n",
       "  </tbody>\n",
       "</table>\n"
      ],
      "text/plain": [
       "<pandas.io.formats.style.Styler at 0x79bfe59a3ca0>"
      ]
     },
     "metadata": {},
     "output_type": "display_data"
    }
   ],
   "source": [
    "import pandas as pd\n",
    "from IPython.display import display\n",
    "\n",
    "def display_colorful_null_values_table(df):\n",
    "    # Calculate the number of null values per column\n",
    "    null_values = df.isna().sum().reset_index()\n",
    "    null_values.columns = ['Column', 'Null Values']  # Rename columns\n",
    "\n",
    "    # Define a function to apply different colors based on null values\n",
    "    def highlight_nan(val):\n",
    "        if val > 0:\n",
    "            return 'background-color: lightcoral'  # Red for columns with nulls\n",
    "        else:\n",
    "            return 'background-color: lightgreen'  # Green for columns without nulls\n",
    "\n",
    "    # Apply styling for the entire table with a new color scheme\n",
    "    styled_table = null_values.style.set_properties(**{\n",
    "        'background-color': '#f0f8ff',  # Light azure background for the table\n",
    "        'color': '#333',  # Dark text for readability\n",
    "        'border-color': '#0044cc',  # Dark blue border color\n",
    "        'border-width': '1px',\n",
    "        'border-style': 'solid',\n",
    "        'text-align': 'center',\n",
    "        'padding': '8px',  # Padding for cell spacing\n",
    "        'font-weight': 'bold',  # Bold text for better readability\n",
    "    }).set_table_styles([\n",
    "        # Custom styling for the table header\n",
    "        {'selector': 'thead th', 'props': [\n",
    "            ('background-color', '#0044cc'),  # Dark blue for header\n",
    "            ('color', 'white'),  # White text for contrast\n",
    "            ('border-color', '#0044cc'),\n",
    "            ('border-width', '1px'),\n",
    "            ('border-style', 'solid'),\n",
    "            ('font-size', '14px'),  # Header text size\n",
    "        ]}\n",
    "    ]).map(highlight_nan, subset=['Null Values'])  # Use Styler.map instead of applymap\n",
    "\n",
    "    # Display the colorful table\n",
    "    display(styled_table)\n",
    "\n",
    "# Display the colorful null values table for the 'train' DataFrame\n",
    "display_colorful_null_values_table(train)\n"
   ]
  },
  {
   "cell_type": "code",
   "execution_count": 27,
   "id": "82fd8fbd",
   "metadata": {
    "execution": {
     "iopub.execute_input": "2024-12-12T15:12:35.762806Z",
     "iopub.status.busy": "2024-12-12T15:12:35.762282Z",
     "iopub.status.idle": "2024-12-12T15:12:35.774809Z",
     "shell.execute_reply": "2024-12-12T15:12:35.773425Z"
    },
    "papermill": {
     "duration": 0.027412,
     "end_time": "2024-12-12T15:12:35.777213",
     "exception": false,
     "start_time": "2024-12-12T15:12:35.749801",
     "status": "completed"
    },
    "tags": []
   },
   "outputs": [
    {
     "data": {
      "text/plain": [
       "ConstructId\n",
       "473     14\n",
       "1470    13\n",
       "1428    13\n",
       "854     12\n",
       "3346    12\n",
       "1403    11\n",
       "2774    11\n",
       "1042     9\n",
       "471      9\n",
       "1493     9\n",
       "Name: count, dtype: int64"
      ]
     },
     "execution_count": 27,
     "metadata": {},
     "output_type": "execute_result"
    }
   ],
   "source": [
    "train['ConstructId'].value_counts()[:10]"
   ]
  },
  {
   "cell_type": "code",
   "execution_count": 28,
   "id": "8f393ca6",
   "metadata": {
    "execution": {
     "iopub.execute_input": "2024-12-12T15:12:35.802417Z",
     "iopub.status.busy": "2024-12-12T15:12:35.802011Z",
     "iopub.status.idle": "2024-12-12T15:12:35.811225Z",
     "shell.execute_reply": "2024-12-12T15:12:35.810084Z"
    },
    "papermill": {
     "duration": 0.024601,
     "end_time": "2024-12-12T15:12:35.813389",
     "exception": false,
     "start_time": "2024-12-12T15:12:35.788788",
     "status": "completed"
    },
    "tags": []
   },
   "outputs": [],
   "source": [
    "import matplotlib.pyplot as plt\n",
    "import numpy as np\n",
    "\n",
    "def plot_value_counts(df, column_name):\n",
    "    # Get the value counts for the specified column\n",
    "    value_counts = df[column_name].value_counts()\n",
    "\n",
    "    # Create a bar plot with a gradient color scheme\n",
    "    plt.figure(figsize=(10, 6))\n",
    "    bars = plt.bar(value_counts.index, value_counts.values, color=plt.cm.viridis(np.linspace(0, 1, len(value_counts))))\n",
    "\n",
    "    # Add title and labels with custom fonts and styles\n",
    "    plt.title(f'Value Counts for {column_name}', fontsize=18, fontweight='bold', family='serif', color='#4a4a4a')\n",
    "    plt.xlabel('Values', fontsize=14, fontweight='bold', family='serif', color='#333')\n",
    "    plt.ylabel('Count', fontsize=14, fontweight='bold', family='serif', color='#333')\n",
    "\n",
    "    # Annotate the bars with the count values\n",
    "    for bar in bars:\n",
    "        height = bar.get_height()\n",
    "        plt.text(bar.get_x() + bar.get_width() / 2, height + 0.2,  # Position the text slightly above the bars\n",
    "                 f'{int(height)}', ha='center', va='bottom', fontsize=12, color='#333')\n",
    "\n",
    "    # Add a grid with light color and horizontal lines\n",
    "    plt.grid(axis='y', linestyle='--', alpha=0.6, color='gray')\n",
    "\n",
    "    # Rotate x-axis labels for better readability\n",
    "    plt.xticks(rotation=45, ha='right', fontsize=12)\n",
    "\n",
    "    # Adjust layout to prevent overlapping\n",
    "    plt.tight_layout()\n",
    "\n",
    "    # Show the plot\n",
    "    plt.show()\n",
    "\n"
   ]
  },
  {
   "cell_type": "code",
   "execution_count": 29,
   "id": "147ede51",
   "metadata": {
    "execution": {
     "iopub.execute_input": "2024-12-12T15:12:35.839576Z",
     "iopub.status.busy": "2024-12-12T15:12:35.839155Z",
     "iopub.status.idle": "2024-12-12T15:12:36.207455Z",
     "shell.execute_reply": "2024-12-12T15:12:36.206302Z"
    },
    "papermill": {
     "duration": 0.383985,
     "end_time": "2024-12-12T15:12:36.209833",
     "exception": false,
     "start_time": "2024-12-12T15:12:35.825848",
     "status": "completed"
    },
    "tags": []
   },
   "outputs": [
    {
     "data": {
      "image/png": "[encoded data removed]",
      "text/plain": [
       "<Figure size 1000x600 with 1 Axes>"
      ]
     },
     "metadata": {},
     "output_type": "display_data"
    }
   ],
   "source": [
    "plot_value_counts(train, 'CorrectAnswer')"
   ]
  },
  {
   "cell_type": "code",
   "execution_count": 30,
   "id": "bf8ef5e0",
   "metadata": {
    "execution": {
     "iopub.execute_input": "2024-12-12T15:12:36.237670Z",
     "iopub.status.busy": "2024-12-12T15:12:36.237270Z",
     "iopub.status.idle": "2024-12-12T15:12:36.249210Z",
     "shell.execute_reply": "2024-12-12T15:12:36.248073Z"
    },
    "papermill": {
     "duration": 0.027429,
     "end_time": "2024-12-12T15:12:36.251402",
     "exception": false,
     "start_time": "2024-12-12T15:12:36.223973",
     "status": "completed"
    },
    "tags": []
   },
   "outputs": [
    {
     "data": {
      "text/plain": [
       "MisconceptionAId\n",
       "1214.0    18\n",
       "1880.0    12\n",
       "1379.0    11\n",
       "1507.0    10\n",
       "1990.0    10\n",
       "          ..\n",
       "1731.0     1\n",
       "1788.0     1\n",
       "1818.0     1\n",
       "379.0      1\n",
       "801.0      1\n",
       "Name: count, Length: 740, dtype: int64"
      ]
     },
     "execution_count": 30,
     "metadata": {},
     "output_type": "execute_result"
    }
   ],
   "source": [
    "train['MisconceptionAId'].value_counts()"
   ]
  },
  {
   "cell_type": "code",
   "execution_count": 31,
   "id": "8c82420c",
   "metadata": {
    "execution": {
     "iopub.execute_input": "2024-12-12T15:12:36.278168Z",
     "iopub.status.busy": "2024-12-12T15:12:36.277762Z",
     "iopub.status.idle": "2024-12-12T15:12:36.288776Z",
     "shell.execute_reply": "2024-12-12T15:12:36.287390Z"
    },
    "papermill": {
     "duration": 0.028467,
     "end_time": "2024-12-12T15:12:36.292432",
     "exception": false,
     "start_time": "2024-12-12T15:12:36.263965",
     "status": "completed"
    },
    "tags": []
   },
   "outputs": [
    {
     "data": {
      "text/plain": [
       "MisconceptionBId\n",
       "2316.0    17\n",
       "1379.0    11\n",
       "1507.0    11\n",
       "1072.0    10\n",
       "1880.0    10\n",
       "          ..\n",
       "2241.0     1\n",
       "2279.0     1\n",
       "709.0      1\n",
       "2346.0     1\n",
       "691.0      1\n",
       "Name: count, Length: 727, dtype: int64"
      ]
     },
     "execution_count": 31,
     "metadata": {},
     "output_type": "execute_result"
    }
   ],
   "source": [
    "train['MisconceptionBId'].value_counts()"
   ]
  },
  {
   "cell_type": "code",
   "execution_count": 32,
   "id": "ae3c84b0",
   "metadata": {
    "execution": {
     "iopub.execute_input": "2024-12-12T15:12:36.319228Z",
     "iopub.status.busy": "2024-12-12T15:12:36.318173Z",
     "iopub.status.idle": "2024-12-12T15:12:36.327909Z",
     "shell.execute_reply": "2024-12-12T15:12:36.326745Z"
    },
    "papermill": {
     "duration": 0.025308,
     "end_time": "2024-12-12T15:12:36.329972",
     "exception": false,
     "start_time": "2024-12-12T15:12:36.304664",
     "status": "completed"
    },
    "tags": []
   },
   "outputs": [
    {
     "data": {
      "text/plain": [
       "MisconceptionCId\n",
       "1379.0    13\n",
       "2316.0    12\n",
       "1214.0    12\n",
       "1507.0    10\n",
       "77.0       7\n",
       "          ..\n",
       "2361.0     1\n",
       "2043.0     1\n",
       "2208.0     1\n",
       "1024.0     1\n",
       "801.0      1\n",
       "Name: count, Length: 695, dtype: int64"
      ]
     },
     "execution_count": 32,
     "metadata": {},
     "output_type": "execute_result"
    }
   ],
   "source": [
    "train['MisconceptionCId'].value_counts()"
   ]
  },
  {
   "cell_type": "code",
   "execution_count": 33,
   "id": "2efb3c2a",
   "metadata": {
    "execution": {
     "iopub.execute_input": "2024-12-12T15:12:36.355854Z",
     "iopub.status.busy": "2024-12-12T15:12:36.355473Z",
     "iopub.status.idle": "2024-12-12T15:12:36.364907Z",
     "shell.execute_reply": "2024-12-12T15:12:36.363658Z"
    },
    "papermill": {
     "duration": 0.024938,
     "end_time": "2024-12-12T15:12:36.367047",
     "exception": false,
     "start_time": "2024-12-12T15:12:36.342109",
     "status": "completed"
    },
    "tags": []
   },
   "outputs": [
    {
     "data": {
      "text/plain": [
       "MisconceptionDId\n",
       "1214.0    14\n",
       "1379.0     8\n",
       "113.0      8\n",
       "1880.0     8\n",
       "2392.0     7\n",
       "          ..\n",
       "931.0      1\n",
       "1181.0     1\n",
       "376.0      1\n",
       "1012.0     1\n",
       "95.0       1\n",
       "Name: count, Length: 673, dtype: int64"
      ]
     },
     "execution_count": 33,
     "metadata": {},
     "output_type": "execute_result"
    }
   ],
   "source": [
    "train['MisconceptionDId'].value_counts()"
   ]
  },
  {
   "cell_type": "code",
   "execution_count": 34,
   "id": "4952953e",
   "metadata": {
    "execution": {
     "iopub.execute_input": "2024-12-12T15:12:36.393744Z",
     "iopub.status.busy": "2024-12-12T15:12:36.393378Z",
     "iopub.status.idle": "2024-12-12T15:12:36.414652Z",
     "shell.execute_reply": "2024-12-12T15:12:36.413145Z"
    },
    "papermill": {
     "duration": 0.037482,
     "end_time": "2024-12-12T15:12:36.417018",
     "exception": false,
     "start_time": "2024-12-12T15:12:36.379536",
     "status": "completed"
    },
    "tags": []
   },
   "outputs": [
    {
     "name": "stdout",
     "output_type": "stream",
     "text": [
      "\n",
      "====================================================================================================\n",
      "Most Frequent MisconceptionIds Across the Options\n",
      "==================================================================================================== \n",
      "\n",
      "Rank 1:\n",
      "  Misconception: When solving an equation, uses the same operation rather than the inverse.\n",
      "  MisconceptionId: 1214\n",
      "  MisconceptionId Count: 54\n",
      "---------------------------------------------------------------------------------------------------- \n",
      "\n",
      "Rank 2:\n",
      "  Misconception: Rounds down instead of up\n",
      "  MisconceptionId: 1379\n",
      "  MisconceptionId Count: 43\n",
      "---------------------------------------------------------------------------------------------------- \n",
      "\n",
      "Rank 3:\n",
      "  Misconception: Mixes up squaring and multiplying by 2 or doubling\n",
      "  MisconceptionId: 2316\n",
      "  MisconceptionId Count: 38\n",
      "---------------------------------------------------------------------------------------------------- \n",
      "\n",
      "Rank 4:\n",
      "  Misconception: Carries out operations from left to right regardless of priority order\n",
      "  MisconceptionId: 1507\n",
      "  MisconceptionId Count: 36\n",
      "---------------------------------------------------------------------------------------------------- \n",
      "\n",
      "Rank 5:\n",
      "  Misconception: Fails to reflect across mirror line\n",
      "  MisconceptionId: 1990\n",
      "  MisconceptionId Count: 33\n",
      "---------------------------------------------------------------------------------------------------- \n",
      "\n",
      "Rank 6:\n",
      "  Misconception: Mixes up greater than and less than symbols\n",
      "  MisconceptionId: 1880\n",
      "  MisconceptionId Count: 32\n",
      "---------------------------------------------------------------------------------------------------- \n",
      "\n",
      "Rank 7:\n",
      "  Misconception: Believes multiplying two negatives gives a negative answer\n",
      "  MisconceptionId: 1597\n",
      "  MisconceptionId Count: 27\n",
      "---------------------------------------------------------------------------------------------------- \n",
      "\n",
      "Rank 8:\n",
      "  Misconception: Rounds to the wrong degree of accuracy (rounds too much)\n",
      "  MisconceptionId: 2392\n",
      "  MisconceptionId Count: 27\n",
      "---------------------------------------------------------------------------------------------------- \n",
      "\n",
      "Rank 9:\n",
      "  Misconception: Does not follow the arrows through a function machine, changes the order of the operations asked.\n",
      "  MisconceptionId: 77\n",
      "  MisconceptionId Count: 22\n",
      "---------------------------------------------------------------------------------------------------- \n",
      "\n",
      "Rank 10:\n",
      "  Misconception: Only multiplies the first term in the expansion of a bracket\n",
      "  MisconceptionId: 220\n",
      "  MisconceptionId Count: 22\n",
      "---------------------------------------------------------------------------------------------------- \n",
      "\n"
     ]
    }
   ],
   "source": [
    "from collections import Counter\n",
    "\n",
    "# Collect all non-null MisconceptionIds across the columns\n",
    "stacked = []\n",
    "for i in ['MisconceptionAId', 'MisconceptionBId', 'MisconceptionCId', 'MisconceptionDId']:\n",
    "    stacked.extend(train[train[i].notna()][i].tolist())\n",
    "\n",
    "# Function to sort misconceptions by frequency\n",
    "def sort_by_frequency_with_counts(input_list):\n",
    "    freq_count = Counter(input_list)\n",
    "    sorted_elements_with_counts = sorted(freq_count.items(), key=lambda x: (-x[1], x[0]))  # Sort by frequency and then by MisconceptionId\n",
    "\n",
    "    return sorted_elements_with_counts\n",
    "\n",
    "# Get the sorted misconceptions\n",
    "sorted_elements_with_counts = sort_by_frequency_with_counts(stacked)\n",
    "\n",
    "# Display the most frequent MisconceptionIds\n",
    "print(\"\\n\" + \"=\"*100)\n",
    "print(\"Most Frequent MisconceptionIds Across the Options\")\n",
    "print(\"=\"*100, \"\\n\")\n",
    "\n",
    "# Display the top 10 misconceptions with count\n",
    "for i, (element, count) in enumerate(sorted_elements_with_counts[:10]):\n",
    "    misconception = misTable.get(int(element), \"Unknown Misconception\")\n",
    "    print(f\"Rank {i+1}:\")\n",
    "    print(f\"  Misconception: {misconception}\")\n",
    "    print(f\"  MisconceptionId: {int(element)}\")\n",
    "    print(f\"  MisconceptionId Count: {count}\")\n",
    "    print(\"-\"*100, \"\\n\")"
   ]
  },
  {
   "cell_type": "markdown",
   "id": "dd1aa67e",
   "metadata": {
    "papermill": {
     "duration": 0.012756,
     "end_time": "2024-12-12T15:12:36.442899",
     "exception": false,
     "start_time": "2024-12-12T15:12:36.430143",
     "status": "completed"
    },
    "tags": []
   },
   "source": [
    "## Submission"
   ]
  },
  {
   "cell_type": "code",
   "execution_count": 35,
   "id": "2606c78b",
   "metadata": {
    "execution": {
     "iopub.execute_input": "2024-12-12T15:12:36.469910Z",
     "iopub.status.busy": "2024-12-12T15:12:36.469500Z",
     "iopub.status.idle": "2024-12-12T15:12:36.475891Z",
     "shell.execute_reply": "2024-12-12T15:12:36.474923Z"
    },
    "papermill": {
     "duration": 0.02236,
     "end_time": "2024-12-12T15:12:36.477981",
     "exception": false,
     "start_time": "2024-12-12T15:12:36.455621",
     "status": "completed"
    },
    "tags": []
   },
   "outputs": [],
   "source": [
    "# given guess data frame and ground truth array\n",
    "def evaluate_map(guessed_df, ground_truth):\n",
    "    guesses = guessed_df[\"MisconceptionId\"].str.split()\n",
    "\n",
    "    total = 0\n",
    "\n",
    "    for guess_list, gt in zip(guesses, ground_truth):\n",
    "        score = 0\n",
    "        for i, guess in enumerate(guess_list):\n",
    "            # find the first index where the guess is correct and break\n",
    "            if guess == gt:\n",
    "                score = 1 / (i + 1)\n",
    "                break\n",
    "        total += score\n",
    "\n",
    "    # take the average over all observations\n",
    "    return total / len(guesses)"
   ]
  },
  {
   "cell_type": "code",
   "execution_count": 36,
   "id": "d1de3c14",
   "metadata": {
    "execution": {
     "iopub.execute_input": "2024-12-12T15:12:36.504793Z",
     "iopub.status.busy": "2024-12-12T15:12:36.504407Z",
     "iopub.status.idle": "2024-12-12T15:12:36.515785Z",
     "shell.execute_reply": "2024-12-12T15:12:36.514658Z"
    },
    "papermill": {
     "duration": 0.027255,
     "end_time": "2024-12-12T15:12:36.517897",
     "exception": false,
     "start_time": "2024-12-12T15:12:36.490642",
     "status": "completed"
    },
    "tags": []
   },
   "outputs": [
    {
     "name": "stdout",
     "output_type": "stream",
     "text": [
      "MAP@25 Score: 0.4333333333333333\n"
     ]
    }
   ],
   "source": [
    "import numpy as np\n",
    "import pandas as pd\n",
    "\n",
    "def evaluate_map(guessed_df, ground_truth, k=25):\n",
    "    \"\"\"\n",
    "    Evaluates the Mean Average Precision at k (MAP@k) for the given guesses and ground truth.\n",
    "    \n",
    "    Parameters:\n",
    "    - guessed_df: A DataFrame containing 'QuestionId_Answer' and 'MisconceptionId' columns.\n",
    "    - ground_truth: A list of ground truth MisconceptionIds.\n",
    "    - k: The cutoff for the top-k relevant items (default is 25).\n",
    "    \n",
    "    Returns:\n",
    "    - MAP@k score\n",
    "    \"\"\"\n",
    "    def average_precision_at_k(predictions, truth, k):\n",
    "        # Ensure the predictions are sorted by their rank\n",
    "        predictions = predictions[:k]\n",
    "        truth_set = set(truth.split())  # Convert ground truth to a set for fast lookup\n",
    "        \n",
    "        # Compute precision for each relevant item in the top k predictions\n",
    "        relevant_items = 0\n",
    "        precision_sum = 0.0\n",
    "        for i, prediction in enumerate(predictions):\n",
    "            if prediction in truth_set:\n",
    "                relevant_items += 1\n",
    "                precision_sum += relevant_items / (i + 1)\n",
    "        \n",
    "        # Return the average precision at k\n",
    "        return precision_sum / min(len(truth_set), k) if relevant_items > 0 else 0.0\n",
    "\n",
    "    # Calculate the MAP@k score by averaging over all rows in the guessed dataframe\n",
    "    ap_scores = []\n",
    "    for idx, row in guessed_df.iterrows():\n",
    "        question_answer = row['QuestionId_Answer']\n",
    "        predicted_misconceptions = row['MisconceptionId'].split()  # Split misconceptions into a list\n",
    "        truth_misconception = ground_truth[idx]  # Get the ground truth for this index\n",
    "        \n",
    "        ap_score = average_precision_at_k(predicted_misconceptions, truth_misconception, k)\n",
    "        ap_scores.append(ap_score)\n",
    "    \n",
    "    # Return the mean of all average precision scores\n",
    "    return np.mean(ap_scores)\n",
    "\n",
    "# Toy DataFrame and ground truth\n",
    "guessed_df = pd.DataFrame({\n",
    "    \"QuestionId_Answer\": [\"1_A\", \"1_B\", \"1_C\", \"2_A\", \"2_B\"],\n",
    "    \"MisconceptionId\": [\"1 2 3\", \"4 5 6\", \"7 8 9\", \"1 4 7\", \"2 5 8\"]\n",
    "})\n",
    "\n",
    "# Ground truth values\n",
    "ground_truth = [\"1\", \"6\", \"10\", \"7\", \"5\"]\n",
    "\n",
    "# Evaluate MAP@25 score\n",
    "map_score = evaluate_map(guessed_df, ground_truth)\n",
    "print(\"MAP@25 Score:\", map_score)\n"
   ]
  },
  {
   "cell_type": "code",
   "execution_count": null,
   "id": "3ebe10df",
   "metadata": {
    "papermill": {
     "duration": 0.012717,
     "end_time": "2024-12-12T15:12:36.543306",
     "exception": false,
     "start_time": "2024-12-12T15:12:36.530589",
     "status": "completed"
    },
    "tags": []
   },
   "outputs": [],
   "source": []
  }
 ],
 "metadata": {
  "kaggle": {
   "accelerator": "none",
   "dataSources": [
    {
     "databundleVersionId": 9738540,
     "sourceId": 82695,
     "sourceType": "competition"
    }
   ],
   "dockerImageVersionId": 30804,
   "isGpuEnabled": false,
   "isInternetEnabled": true,
   "language": "python",
   "sourceType": "notebook"
  },
  "kernelspec": {
   "display_name": "Python 3",
   "language": "python",
   "name": "python3"
  },
  "language_info": {
   "codemirror_mode": {
    "name": "ipython",
    "version": 3
   },
   "file_extension": ".py",
   "mimetype": "text/x-python",
   "name": "python",
   "nbconvert_exporter": "python",
   "pygments_lexer": "ipython3",
   "version": "3.10.14"
  },
  "papermill": {
   "default_parameters": {},
   "duration": 32.571111,
   "end_time": "2024-12-12T15:12:37.076584",
   "environment_variables": {},
   "exception": null,
   "input_path": "__notebook__.ipynb",
   "output_path": "__notebook__.ipynb",
   "parameters": {},
   "start_time": "2024-12-12T15:12:04.505473",
   "version": "2.6.0"
  }
 },
 "nbformat": 4,
 "nbformat_minor": 5
}
